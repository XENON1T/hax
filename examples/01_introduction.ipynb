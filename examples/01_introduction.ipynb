{
 "cells": [
  {
   "cell_type": "markdown",
   "metadata": {
    "deletable": true,
    "editable": true
   },
   "source": [
    "# Introduction to hax, part I\n",
    "\n",
    "Last updated April 2018.\n",
    "\n",
    "This tutorial shows you how to use `hax` to get at the XENON1T processed data. We cover only the absolute basics in this part, the next two parts delve more into the details."
   ]
  },
  {
   "cell_type": "markdown",
   "metadata": {
    "deletable": true,
    "editable": true
   },
   "source": [
    "## The XENON1T data"
   ]
  },
  {
   "cell_type": "markdown",
   "metadata": {
    "deletable": true,
    "editable": true
   },
   "source": [
    "XENON1T's data is structured in several levels, from low (pulses from the PMTs/digitizers) to high (events):\n",
    "  * **Pulses** are stretches of raw data recorded by a digitizer. These are also called PMT waveforms.\n",
    "  * Within pulses we search for **hits**, excursions above the baseline, corresponding to one or more photons hitting the PMT. \n",
    "  * Nearby hits across all channels are grouped into **peaks**. We compute their properties and classify them as S1 or S2.\n",
    "  * Pairs of S1 and S2s that could be related are called **interactions**. For each interaction we can compute more properties, such as the drift time (time between S1 and S2) or the position corrected for field distortion during drift.\n",
    "  * Finally, all data is segmented in few-ms stretches of time called **events**. An idealized event has one interaction, consisting of two peaks (S1 and S2) that each consist of several hits. In practice events have many peaks that are not part of interactions (such as photoionization electron signals).\n",
    "  "
   ]
  },
  {
   "cell_type": "markdown",
   "metadata": {
    "deletable": true,
    "editable": true
   },
   "source": [
    "The figure below illustrates these levels of data, and the different operations during XENON's analysis:"
   ]
  },
  {
   "cell_type": "markdown",
   "metadata": {
    "deletable": true,
    "editable": true
   },
   "source": [
    "![title](pax_flow.png)"
   ]
  },
  {
   "cell_type": "markdown",
   "metadata": {
    "deletable": true,
    "editable": true
   },
   "source": [
    "## XENON1T software"
   ]
  },
  {
   "cell_type": "markdown",
   "metadata": {
    "deletable": true,
    "editable": true
   },
   "source": [
    "  * [pax](https://github.com/XENON1T/pax) is XENON's data processor. This does all the steps in the figure up to the corrections stage (and until very recently it did the correction stage too). Pax outputs a large ROOT file which stores the entire data hierarchy. In principle you can do analysis directly from this (as was done in XENON100), but today this is never done (to the best of my knowledge).\n",
    "  * [hax](https://github.com/XENON1T/hax) is a library of analysis utilities. The three you'll use most often are:\n",
    "    * `hax.minitrees` for loading data from pax' root file into [pandas DataFrames](http://pandas.pydata.org/pandas-docs/stable/10min.html).\n",
    "    * `hax.runs` for selecting datasets of particular types;\n",
    "    * `hax.cuts` for convenient event selection.\n",
    "  * [lax](https://github.com/XENON1T/lax) is a collection of event selections developed for XENON1T, used in tandem with `hax.minitrees` (and `hax.cuts` if you so choose).\n",
    "  * Specific analyses have dedicated packages. For example,  [blueice](https://github.com/JelleAalbers/blueice) and [xephyr](https://github.com/XENON1T/Xephyr) are used for WIMP-limit setting, while [bbf](https://github.com/XENON1T/bbf) and [laidbax](https://github.com/XENON1T/laidbax) can produce ER and NR response models.\n",
    "  * The final analysis code for a science run is collected in a private repository, see [here](https://github.com/XENON1T/FirstResults) for science run 0 and [here](https://github.com/XENON1T/SR1Results) for science run 1."
   ]
  },
  {
   "cell_type": "markdown",
   "metadata": {
    "deletable": true,
    "editable": true
   },
   "source": [
    "## Boilerplate startup"
   ]
  },
  {
   "cell_type": "markdown",
   "metadata": {
    "deletable": true,
    "editable": true
   },
   "source": [
    "First, we import the math library [numpy](https://en.wikipedia.org/wiki/NumPy)\n",
    "and the plotting library [matplotlib](https://en.wikipedia.org/wiki/Matplotlib):"
   ]
  },
  {
   "cell_type": "code",
   "execution_count": 1,
   "metadata": {
    "collapsed": false,
    "deletable": true,
    "editable": true
   },
   "outputs": [],
   "source": [
    "import numpy as np\n",
    "import matplotlib\n",
    "import matplotlib.pyplot as plt\n",
    "# make plots appear without explicit plt.show():\n",
    "%matplotlib inline   "
   ]
  },
  {
   "cell_type": "markdown",
   "metadata": {
    "deletable": true,
    "editable": true
   },
   "source": [
    "Now it is time to import and intialize `hax`. This will take about half a minute (it's querying the runs db and scanning the filesystem for available datasets."
   ]
  },
  {
   "cell_type": "code",
   "execution_count": 2,
   "metadata": {
    "collapsed": false,
    "deletable": true,
    "editable": true,
    "scrolled": true
   },
   "outputs": [],
   "source": [
    "import hax\n",
    "hax.init()"
   ]
  },
  {
   "cell_type": "markdown",
   "metadata": {
    "deletable": true,
    "editable": true
   },
   "source": [
    "You can pass a variety of options to hax.init, which we will cover later."
   ]
  },
  {
   "cell_type": "markdown",
   "metadata": {
    "deletable": true,
    "editable": true
   },
   "source": [
    "# Selecting datasets"
   ]
  },
  {
   "cell_type": "markdown",
   "metadata": {
    "deletable": true,
    "editable": true
   },
   "source": [
    "All XENON1T data is segmented into datasets, usually each one hour long. Datasets are sometimes called 'runs' -- not to be confused with 'science runs', which represent a much longer period of time containing hundreds or thousands of datasets. \n",
    "\n",
    "A [central database](https://xenon1t-daq.lngs.infn.it/runs/) tracks all runs and what conditions they were taken in (e.g. presence of a calibration source). Hax provides a DataFrame with all available datasets on the analysis facility in hax.runs.datasets:"
   ]
  },
  {
   "cell_type": "code",
   "execution_count": 3,
   "metadata": {
    "collapsed": false,
    "deletable": true,
    "editable": true
   },
   "outputs": [
    {
     "data": {
      "text/html": [
       "<div>\n",
       "<table border=\"1\" class=\"dataframe\">\n",
       "  <thead>\n",
       "    <tr style=\"text-align: right;\">\n",
       "      <th></th>\n",
       "      <th>end</th>\n",
       "      <th>location</th>\n",
       "      <th>name</th>\n",
       "      <th>number</th>\n",
       "      <th>pax_version</th>\n",
       "      <th>reader__ini__name</th>\n",
       "      <th>reader__self_trigger</th>\n",
       "      <th>source__frequency</th>\n",
       "      <th>source__type</th>\n",
       "      <th>start</th>\n",
       "      <th>tags</th>\n",
       "      <th>trigger__events_built</th>\n",
       "      <th>trigger__status</th>\n",
       "      <th>raw_data_subfolder</th>\n",
       "      <th>raw_data_found</th>\n",
       "      <th>raw_data_used_local_path</th>\n",
       "    </tr>\n",
       "  </thead>\n",
       "  <tbody>\n",
       "    <tr>\n",
       "      <th>18071</th>\n",
       "      <td>2018-04-03 14:33:46</td>\n",
       "      <td></td>\n",
       "      <td>180403_1333</td>\n",
       "      <td>18074</td>\n",
       "      <td></td>\n",
       "      <td>background_stable</td>\n",
       "      <td>True</td>\n",
       "      <td>NaN</td>\n",
       "      <td>none</td>\n",
       "      <td>2018-04-03 13:33:43</td>\n",
       "      <td></td>\n",
       "      <td>22853.0</td>\n",
       "      <td>deleted</td>\n",
       "      <td></td>\n",
       "      <td>False</td>\n",
       "      <td></td>\n",
       "    </tr>\n",
       "    <tr>\n",
       "      <th>18072</th>\n",
       "      <td>2018-04-03 15:51:51</td>\n",
       "      <td></td>\n",
       "      <td>180403_1451</td>\n",
       "      <td>18075</td>\n",
       "      <td></td>\n",
       "      <td>background_triggerless</td>\n",
       "      <td>True</td>\n",
       "      <td>NaN</td>\n",
       "      <td>none</td>\n",
       "      <td>2018-04-03 14:51:47</td>\n",
       "      <td></td>\n",
       "      <td>36292.0</td>\n",
       "      <td>deleted</td>\n",
       "      <td></td>\n",
       "      <td>False</td>\n",
       "      <td></td>\n",
       "    </tr>\n",
       "    <tr>\n",
       "      <th>18073</th>\n",
       "      <td>2018-04-03 16:52:02</td>\n",
       "      <td></td>\n",
       "      <td>180403_1551</td>\n",
       "      <td>18076</td>\n",
       "      <td></td>\n",
       "      <td>background_stable</td>\n",
       "      <td>True</td>\n",
       "      <td>NaN</td>\n",
       "      <td>none</td>\n",
       "      <td>2018-04-03 15:51:58</td>\n",
       "      <td></td>\n",
       "      <td>22707.0</td>\n",
       "      <td>processed</td>\n",
       "      <td></td>\n",
       "      <td>False</td>\n",
       "      <td></td>\n",
       "    </tr>\n",
       "    <tr>\n",
       "      <th>18074</th>\n",
       "      <td>2018-04-03 18:14:27</td>\n",
       "      <td></td>\n",
       "      <td>180403_1714</td>\n",
       "      <td>18077</td>\n",
       "      <td></td>\n",
       "      <td>background_stable</td>\n",
       "      <td>True</td>\n",
       "      <td>NaN</td>\n",
       "      <td>none</td>\n",
       "      <td>2018-04-03 17:14:24</td>\n",
       "      <td></td>\n",
       "      <td>23080.0</td>\n",
       "      <td>processed</td>\n",
       "      <td></td>\n",
       "      <td>False</td>\n",
       "      <td></td>\n",
       "    </tr>\n",
       "    <tr>\n",
       "      <th>18075</th>\n",
       "      <td>NaT</td>\n",
       "      <td></td>\n",
       "      <td>180403_1814</td>\n",
       "      <td>18078</td>\n",
       "      <td></td>\n",
       "      <td>background_stable</td>\n",
       "      <td>True</td>\n",
       "      <td>NaN</td>\n",
       "      <td>none</td>\n",
       "      <td>2018-04-03 18:14:34</td>\n",
       "      <td></td>\n",
       "      <td>NaN</td>\n",
       "      <td>staging</td>\n",
       "      <td></td>\n",
       "      <td>False</td>\n",
       "      <td></td>\n",
       "    </tr>\n",
       "  </tbody>\n",
       "</table>\n",
       "</div>"
      ],
      "text/plain": [
       "                      end location         name  number pax_version  \\\n",
       "18071 2018-04-03 14:33:46           180403_1333   18074               \n",
       "18072 2018-04-03 15:51:51           180403_1451   18075               \n",
       "18073 2018-04-03 16:52:02           180403_1551   18076               \n",
       "18074 2018-04-03 18:14:27           180403_1714   18077               \n",
       "18075                 NaT           180403_1814   18078               \n",
       "\n",
       "            reader__ini__name reader__self_trigger  source__frequency  \\\n",
       "18071       background_stable                 True                NaN   \n",
       "18072  background_triggerless                 True                NaN   \n",
       "18073       background_stable                 True                NaN   \n",
       "18074       background_stable                 True                NaN   \n",
       "18075       background_stable                 True                NaN   \n",
       "\n",
       "      source__type               start tags  trigger__events_built  \\\n",
       "18071         none 2018-04-03 13:33:43                     22853.0   \n",
       "18072         none 2018-04-03 14:51:47                     36292.0   \n",
       "18073         none 2018-04-03 15:51:58                     22707.0   \n",
       "18074         none 2018-04-03 17:14:24                     23080.0   \n",
       "18075         none 2018-04-03 18:14:34                         NaN   \n",
       "\n",
       "      trigger__status raw_data_subfolder raw_data_found  \\\n",
       "18071         deleted                             False   \n",
       "18072         deleted                             False   \n",
       "18073       processed                             False   \n",
       "18074       processed                             False   \n",
       "18075         staging                             False   \n",
       "\n",
       "      raw_data_used_local_path  \n",
       "18071                           \n",
       "18072                           \n",
       "18073                           \n",
       "18074                           \n",
       "18075                           "
      ]
     },
     "execution_count": 3,
     "metadata": {},
     "output_type": "execute_result"
    }
   ],
   "source": [
    "ds = hax.runs.datasets\n",
    "ds.tail()"
   ]
  },
  {
   "cell_type": "markdown",
   "metadata": {
    "deletable": true,
    "editable": true
   },
   "source": [
    "Selecting datasets is usually done by three criteria:\n",
    "  * \"tags\" added to runs to describe their properties. For example, the tag `bad` means the data is not useful (a comment in the runs db hopefully specifies why), while the tag `sciencerun1` marks all datasets that are included in science run 1. For selecting runs that have or do not have specific tags hax has a helper function `hax.runs.tags.selection`.\n",
    "  * The run configuration filename (`reader__ini__name` field), or at least the `source__type` field, which indicates whether a calibration souce was present.\n",
    "  * Availability of the processed data (`location` field)\n",
    "  \n",
    "This selects all neutron generator datasets from science run 1:"
   ]
  },
  {
   "cell_type": "code",
   "execution_count": 4,
   "metadata": {
    "collapsed": false,
    "deletable": true,
    "editable": true
   },
   "outputs": [
    {
     "name": "stdout",
     "output_type": "stream",
     "text": [
      "Selected 47 datasets\n"
     ]
    }
   ],
   "source": [
    "ds = hax.runs.tags_selection(include='sciencerun1')\n",
    "ds = ds[ds['source__type'] == 'neutron_generator']\n",
    "ds = ds[ds['location'] != '']\n",
    "print(\"Selected %d datasets\" % len(ds))"
   ]
  },
  {
   "cell_type": "markdown",
   "metadata": {
    "deletable": true,
    "editable": true
   },
   "source": [
    "For now, let's just take the last dataset:"
   ]
  },
  {
   "cell_type": "code",
   "execution_count": 5,
   "metadata": {
    "collapsed": false,
    "deletable": true,
    "editable": true
   },
   "outputs": [
    {
     "name": "stdout",
     "output_type": "stream",
     "text": [
      "10058\n"
     ]
    }
   ],
   "source": [
    "our_dset = ds.iloc[-1].number\n",
    "print(our_dset)"
   ]
  },
  {
   "cell_type": "markdown",
   "metadata": {
    "deletable": true,
    "editable": true
   },
   "source": [
    "## Loading data"
   ]
  },
  {
   "cell_type": "markdown",
   "metadata": {
    "deletable": true,
    "editable": true
   },
   "source": [
    "For many analyses you only need basic data such as the S1 and S2 areas, positions, etc. You can load this in with hax.minitrees.load:"
   ]
  },
  {
   "cell_type": "code",
   "execution_count": 6,
   "metadata": {
    "collapsed": false,
    "deletable": true,
    "editable": true
   },
   "outputs": [],
   "source": [
    "data = hax.minitrees.load(our_dset, 'Basics')"
   ]
  },
  {
   "cell_type": "markdown",
   "metadata": {
    "deletable": true,
    "editable": true
   },
   "source": [
    "The first argument is the number(s) of the dataset(s) to load, the second specifies what kind of data to load. Technically this names the 'minitree-makers' you want to call; here we got info from the 'Basics' treemaker. The data returned is just a pandas dataframe:"
   ]
  },
  {
   "cell_type": "code",
   "execution_count": 7,
   "metadata": {
    "collapsed": false,
    "deletable": true,
    "editable": true,
    "scrolled": true
   },
   "outputs": [
    {
     "data": {
      "text/html": [
       "<div>\n",
       "<table border=\"1\" class=\"dataframe\">\n",
       "  <thead>\n",
       "    <tr style=\"text-align: right;\">\n",
       "      <th></th>\n",
       "      <th>drift_time</th>\n",
       "      <th>event_number</th>\n",
       "      <th>largest_coincidence</th>\n",
       "      <th>largest_other_s1</th>\n",
       "      <th>largest_other_s2</th>\n",
       "      <th>largest_unknown</th>\n",
       "      <th>largest_veto</th>\n",
       "      <th>run_number</th>\n",
       "      <th>s1</th>\n",
       "      <th>s1_area_fraction_top</th>\n",
       "      <th>s1_range_50p_area</th>\n",
       "      <th>s2</th>\n",
       "      <th>s2_area_fraction_top</th>\n",
       "      <th>s2_range_50p_area</th>\n",
       "      <th>x_pax</th>\n",
       "      <th>y_pax</th>\n",
       "      <th>z</th>\n",
       "    </tr>\n",
       "  </thead>\n",
       "  <tbody>\n",
       "    <tr>\n",
       "      <th>0</th>\n",
       "      <td>570770.0</td>\n",
       "      <td>0</td>\n",
       "      <td>0</td>\n",
       "      <td>16.357983</td>\n",
       "      <td>546.603638</td>\n",
       "      <td>10.832104</td>\n",
       "      <td>0.0</td>\n",
       "      <td>10058</td>\n",
       "      <td>3194.202148</td>\n",
       "      <td>0.133966</td>\n",
       "      <td>81.003211</td>\n",
       "      <td>116676.382812</td>\n",
       "      <td>0.629944</td>\n",
       "      <td>1963.931213</td>\n",
       "      <td>20.356758</td>\n",
       "      <td>41.538960</td>\n",
       "      <td>-75.833534</td>\n",
       "    </tr>\n",
       "    <tr>\n",
       "      <th>1</th>\n",
       "      <td>702720.0</td>\n",
       "      <td>1</td>\n",
       "      <td>0</td>\n",
       "      <td>0.000000</td>\n",
       "      <td>178930.203125</td>\n",
       "      <td>14.718580</td>\n",
       "      <td>0.0</td>\n",
       "      <td>10058</td>\n",
       "      <td>16968.550781</td>\n",
       "      <td>0.084638</td>\n",
       "      <td>79.688278</td>\n",
       "      <td>627856.250000</td>\n",
       "      <td>0.640382</td>\n",
       "      <td>2349.883325</td>\n",
       "      <td>11.388213</td>\n",
       "      <td>7.113688</td>\n",
       "      <td>-93.417023</td>\n",
       "    </tr>\n",
       "    <tr>\n",
       "      <th>2</th>\n",
       "      <td>257890.0</td>\n",
       "      <td>2</td>\n",
       "      <td>0</td>\n",
       "      <td>0.000000</td>\n",
       "      <td>99753.031250</td>\n",
       "      <td>4.205910</td>\n",
       "      <td>0.0</td>\n",
       "      <td>10058</td>\n",
       "      <td>3750.861328</td>\n",
       "      <td>0.245517</td>\n",
       "      <td>78.351161</td>\n",
       "      <td>109405.625000</td>\n",
       "      <td>0.638187</td>\n",
       "      <td>1207.639449</td>\n",
       "      <td>25.199934</td>\n",
       "      <td>39.344578</td>\n",
       "      <td>-34.139549</td>\n",
       "    </tr>\n",
       "    <tr>\n",
       "      <th>3</th>\n",
       "      <td>265680.0</td>\n",
       "      <td>3</td>\n",
       "      <td>0</td>\n",
       "      <td>7.166865</td>\n",
       "      <td>285972.718750</td>\n",
       "      <td>5.473463</td>\n",
       "      <td>0.0</td>\n",
       "      <td>10058</td>\n",
       "      <td>9991.227539</td>\n",
       "      <td>0.249268</td>\n",
       "      <td>91.117324</td>\n",
       "      <td>760470.000000</td>\n",
       "      <td>0.631949</td>\n",
       "      <td>1307.664620</td>\n",
       "      <td>12.842582</td>\n",
       "      <td>43.166271</td>\n",
       "      <td>-35.177635</td>\n",
       "    </tr>\n",
       "    <tr>\n",
       "      <th>4</th>\n",
       "      <td>185040.0</td>\n",
       "      <td>4</td>\n",
       "      <td>0</td>\n",
       "      <td>0.000000</td>\n",
       "      <td>141575.781250</td>\n",
       "      <td>6.880793</td>\n",
       "      <td>0.0</td>\n",
       "      <td>10058</td>\n",
       "      <td>3498.198730</td>\n",
       "      <td>0.265364</td>\n",
       "      <td>81.976762</td>\n",
       "      <td>199562.234375</td>\n",
       "      <td>0.640393</td>\n",
       "      <td>1055.714670</td>\n",
       "      <td>23.641584</td>\n",
       "      <td>38.550804</td>\n",
       "      <td>-24.431654</td>\n",
       "    </tr>\n",
       "  </tbody>\n",
       "</table>\n",
       "</div>"
      ],
      "text/plain": [
       "   drift_time  event_number  largest_coincidence  largest_other_s1  \\\n",
       "0    570770.0             0                    0         16.357983   \n",
       "1    702720.0             1                    0          0.000000   \n",
       "2    257890.0             2                    0          0.000000   \n",
       "3    265680.0             3                    0          7.166865   \n",
       "4    185040.0             4                    0          0.000000   \n",
       "\n",
       "   largest_other_s2  largest_unknown  largest_veto  run_number            s1  \\\n",
       "0        546.603638        10.832104           0.0       10058   3194.202148   \n",
       "1     178930.203125        14.718580           0.0       10058  16968.550781   \n",
       "2      99753.031250         4.205910           0.0       10058   3750.861328   \n",
       "3     285972.718750         5.473463           0.0       10058   9991.227539   \n",
       "4     141575.781250         6.880793           0.0       10058   3498.198730   \n",
       "\n",
       "   s1_area_fraction_top  s1_range_50p_area             s2  \\\n",
       "0              0.133966          81.003211  116676.382812   \n",
       "1              0.084638          79.688278  627856.250000   \n",
       "2              0.245517          78.351161  109405.625000   \n",
       "3              0.249268          91.117324  760470.000000   \n",
       "4              0.265364          81.976762  199562.234375   \n",
       "\n",
       "   s2_area_fraction_top  s2_range_50p_area      x_pax      y_pax          z  \n",
       "0              0.629944        1963.931213  20.356758  41.538960 -75.833534  \n",
       "1              0.640382        2349.883325  11.388213   7.113688 -93.417023  \n",
       "2              0.638187        1207.639449  25.199934  39.344578 -34.139549  \n",
       "3              0.631949        1307.664620  12.842582  43.166271 -35.177635  \n",
       "4              0.640393        1055.714670  23.641584  38.550804 -24.431654  "
      ]
     },
     "execution_count": 7,
     "metadata": {},
     "output_type": "execute_result"
    }
   ],
   "source": [
    "data.head()"
   ]
  },
  {
   "cell_type": "markdown",
   "metadata": {
    "deletable": true,
    "editable": true
   },
   "source": [
    "There are many more minitrees available; a full list is available [here](http://hax.readthedocs.org/en/latest/hax.treemakers.html). We will cover making custom minitrees in a later tutorial.\n",
    "\n",
    "Loading the minitree for this dataset was pretty fast. This is because someone else already built this minitree from the main processed data, and the result is cached on disk (as a flat ROOT file with one branch per column in the table shown above)."
   ]
  },
  {
   "cell_type": "markdown",
   "metadata": {
    "deletable": true,
    "editable": true
   },
   "source": [
    "Let's look at what data we have:"
   ]
  },
  {
   "cell_type": "code",
   "execution_count": 8,
   "metadata": {
    "collapsed": false,
    "deletable": true,
    "editable": true
   },
   "outputs": [
    {
     "data": {
      "image/png": "[encoded data removed]",
      "text/plain": [
       "<matplotlib.figure.Figure at 0x7f0748269cc0>"
      ]
     },
     "metadata": {},
     "output_type": "display_data"
    }
   ],
   "source": [
    "def twod_hist(d):\n",
    "    # Remove events with no S1 or S2\n",
    "    d = d[(d['s1'] > 0) & (d['s2'] > 0)]\n",
    "    \n",
    "    # Make an S1 vs S2 histogram\n",
    "    plt.hist2d(np.log10(d['s1']), np.log10(d['s2']),\n",
    "               bins=100, \n",
    "               range=((1, 5), (2, 7)),\n",
    "               cmap=plt.cm.jet,\n",
    "               norm=matplotlib.colors.LogNorm()   # Logarithmic color scale\n",
    "    )\n",
    "    plt.colorbar(label='Number of events')\n",
    "    \n",
    "    plt.xlabel('log10(S1, pe)')\n",
    "    plt.ylabel('log10(S2, pe)')\n",
    "    plt.show()\n",
    "    \n",
    "twod_hist(data)"
   ]
  },
  {
   "cell_type": "markdown",
   "metadata": {
    "deletable": true,
    "editable": true
   },
   "source": [
    "Notice several photopeaks of gamma rays at high cS1 and high cS2. There is also a band of lower-energy signals, corresponding to elastic nuclear recoils (the reason we do the neutron generator calibration). There are many more features - some correspond to pathological events, since we have not applied any event selections."
   ]
  },
  {
   "cell_type": "markdown",
   "metadata": {
    "deletable": true,
    "editable": true
   },
   "source": [
    "## Event selections"
   ]
  },
  {
   "cell_type": "markdown",
   "metadata": {
    "deletable": true,
    "editable": true
   },
   "source": [
    "Let's try to select some good events. If you've worked with pandas before, you're probably used to applying selections with boolean arrays/Series:"
   ]
  },
  {
   "cell_type": "code",
   "execution_count": 9,
   "metadata": {
    "collapsed": false,
    "deletable": true,
    "editable": true
   },
   "outputs": [
    {
     "data": {
      "image/png": "[encoded data removed]",
      "text/plain": [
       "<matplotlib.figure.Figure at 0x7f07482f7ef0>"
      ]
     },
     "metadata": {},
     "output_type": "display_data"
    }
   ],
   "source": [
    "# Define a new variable to cut on\n",
    "data['r'] = (data['x_pax']**2 + data['y_pax']**2)**0.5\n",
    "\n",
    "# Load unit system\n",
    "from pax import units\n",
    "\n",
    "# Remove events just below the surface or without a valid S1-S2 combination\n",
    "d = data\n",
    "d = d[d['drift_time'] > 10 * units.us]\n",
    "\n",
    "# Remove events at the very edge of the detector\n",
    "d = d[d['r'] < 45 * units.cm]\n",
    "\n",
    "# Remove double scatters (large secondary S2)\n",
    "d = d[d['largest_other_s2'] < np.clip(0.1 * d['s2'], 70, None)]\n",
    "\n",
    "twod_hist(d)"
   ]
  },
  {
   "cell_type": "markdown",
   "metadata": {
    "deletable": true,
    "editable": true
   },
   "source": [
    "This style of selections is simple and totally fine. However, if you do many event selections, you might want to keep track of how many events are cut by what selection. Hax includes helpers for this:"
   ]
  },
  {
   "cell_type": "code",
   "execution_count": 10,
   "metadata": {
    "collapsed": false,
    "deletable": true,
    "editable": true
   },
   "outputs": [
    {
     "name": "stdout",
     "output_type": "stream",
     "text": [
      "drift_time above 10000.0 selection: 17491 rows removed (80.28% passed)\n",
      "r below 45.0 selection: 15976 rows removed (77.56% passed)\n",
      "Remove double scatters selection: 35361 rows removed (35.95% passed)\n"
     ]
    },
    {
     "data": {
      "image/png": "[encoded data removed]",
      "text/plain": [
       "<matplotlib.figure.Figure at 0x7f074816f4a8>"
      ]
     },
     "metadata": {},
     "output_type": "display_data"
    }
   ],
   "source": [
    "d = data\n",
    "d = hax.cuts.above(d, 'drift_time', 10 * units.us)\n",
    "d = hax.cuts.below(d, 'r', 45 * units.cm)\n",
    "d = hax.cuts.selection(d, \n",
    "                       d['largest_other_s2'] < np.clip(0.1 * d['s2'], 70, None),\n",
    "                       desc='Remove double scatters')\n",
    "twod_hist(d)"
   ]
  },
  {
   "cell_type": "markdown",
   "metadata": {
    "deletable": true,
    "editable": true
   },
   "source": [
    "Notice you got a print statement when you applied each cut. Moreover, hax.cuts.history can show you a list of all cuts that were applied, and what happened to the events:"
   ]
  },
  {
   "cell_type": "code",
   "execution_count": 11,
   "metadata": {
    "collapsed": false,
    "deletable": true,
    "editable": true
   },
   "outputs": [
    {
     "data": {
      "text/html": [
       "<div>\n",
       "<table border=\"1\" class=\"dataframe\">\n",
       "  <thead>\n",
       "    <tr style=\"text-align: right;\">\n",
       "      <th></th>\n",
       "      <th>selection_desc</th>\n",
       "      <th>n_before</th>\n",
       "      <th>n_after</th>\n",
       "      <th>n_removed</th>\n",
       "      <th>fraction_passed</th>\n",
       "      <th>cumulative_fraction_left</th>\n",
       "    </tr>\n",
       "  </thead>\n",
       "  <tbody>\n",
       "    <tr>\n",
       "      <th>0</th>\n",
       "      <td>drift_time above 10000.0</td>\n",
       "      <td>88675</td>\n",
       "      <td>71184</td>\n",
       "      <td>17491</td>\n",
       "      <td>0.802752</td>\n",
       "      <td>0.802752</td>\n",
       "    </tr>\n",
       "    <tr>\n",
       "      <th>1</th>\n",
       "      <td>r below 45.0</td>\n",
       "      <td>71184</td>\n",
       "      <td>55208</td>\n",
       "      <td>15976</td>\n",
       "      <td>0.775568</td>\n",
       "      <td>0.622588</td>\n",
       "    </tr>\n",
       "    <tr>\n",
       "      <th>2</th>\n",
       "      <td>Remove double scatters</td>\n",
       "      <td>55208</td>\n",
       "      <td>19847</td>\n",
       "      <td>35361</td>\n",
       "      <td>0.359495</td>\n",
       "      <td>0.223817</td>\n",
       "    </tr>\n",
       "  </tbody>\n",
       "</table>\n",
       "</div>"
      ],
      "text/plain": [
       "             selection_desc  n_before  n_after  n_removed  fraction_passed  \\\n",
       "0  drift_time above 10000.0     88675    71184      17491         0.802752   \n",
       "1              r below 45.0     71184    55208      15976         0.775568   \n",
       "2    Remove double scatters     55208    19847      35361         0.359495   \n",
       "\n",
       "   cumulative_fraction_left  \n",
       "0                  0.802752  \n",
       "1                  0.622588  \n",
       "2                  0.223817  "
      ]
     },
     "execution_count": 11,
     "metadata": {},
     "output_type": "execute_result"
    }
   ],
   "source": [
    "df = hax.cuts.history(d)\n",
    "df"
   ]
  },
  {
   "cell_type": "markdown",
   "metadata": {
    "deletable": true,
    "editable": true
   },
   "source": [
    "Incidentally, if you want to put these tables (or any other pandas dataframes) in your notes on the XENON wiki, there's a helper for that too:"
   ]
  },
  {
   "cell_type": "code",
   "execution_count": 12,
   "metadata": {
    "collapsed": false,
    "deletable": true,
    "editable": true
   },
   "outputs": [
    {
     "name": "stdout",
     "output_type": "stream",
     "text": [
      "^ Table 1: cuts applied in my analysis ^^^^^^\n",
      "^ selection_desc ^ n_before ^ n_after ^ n_removed ^ fraction_passed ^ cumulative_fraction_left ^\n",
      "| drift_time above 10000.0 | 88675 | 71184 | 17491 | 0.80275 | 0.80275 |\n",
      "| r below 45.0 | 71184 | 55208 | 15976 | 0.77557 | 0.62259 |\n",
      "| Remove double scatters | 55208 | 19847 | 35361 | 0.3595 | 0.22382 |\n",
      "\n"
     ]
    }
   ],
   "source": [
    "print(hax.misc.dataframe_to_wiki(df, title=\"Table 1: cuts applied in my analysis\"))"
   ]
  }
 ],
 "metadata": {
  "kernelspec": {
   "display_name": "Python 3",
   "language": "python",
   "name": "python3"
  },
  "language_info": {
   "codemirror_mode": {
    "name": "ipython",
    "version": 3
   },
   "file_extension": ".py",
   "mimetype": "text/x-python",
   "name": "python",
   "nbconvert_exporter": "python",
   "pygments_lexer": "ipython3",
   "version": "3.4.4"
  },
  "toc": {
   "toc_cell": true,
   "toc_number_sections": true,
   "toc_section_display": "block",
   "toc_threshold": 4,
   "toc_window_display": true
  }
 },
 "nbformat": 4,
 "nbformat_minor": 0
}
