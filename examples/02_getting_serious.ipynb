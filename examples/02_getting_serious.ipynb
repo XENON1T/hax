{
 "cells": [
  {
   "cell_type": "markdown",
   "metadata": {
    "deletable": true,
    "editable": true
   },
   "source": [
    "# Introduction to hax, part II"
   ]
  },
  {
   "cell_type": "markdown",
   "metadata": {
    "deletable": true,
    "editable": true
   },
   "source": [
    "Last updated April 2018.\n",
    "\n",
    "This notebook revisits the topics of Part I, going into a bit more detail. You'll learn how to\n",
    "  * Peg your analysis to a specific pax version with `hax.init`,\n",
    "  * Get metadata for runs with `hax.runs.get_run_info`\n",
    "  * Load several datasets with `hax.minitrees`\n",
    "  * Use cuts from `lax`"
   ]
  },
  {
   "cell_type": "markdown",
   "metadata": {
    "deletable": true,
    "editable": true
   },
   "source": [
    "## Startup"
   ]
  },
  {
   "cell_type": "code",
   "execution_count": 1,
   "metadata": {
    "collapsed": true,
    "deletable": true,
    "editable": true
   },
   "outputs": [],
   "source": [
    "import numpy as np\n",
    "import matplotlib\n",
    "import matplotlib.pyplot as plt\n",
    "%matplotlib inline\n",
    "\n",
    "from pax import units\n",
    "import hax\n",
    "\n",
    "hax.init(pax_version_policy='6.8.0',\n",
    "         minitree_paths=['.', '/project2/lgrandi/xenon1t/minitrees/pax_v6.8.0'])"
   ]
  },
  {
   "cell_type": "markdown",
   "metadata": {
    "deletable": true,
    "editable": true
   },
   "source": [
    "Notice we set two options to hax.init:\n",
    "\n",
    "  * `pax_version_policy` controls what versions of the processed data the analysis is allowed to use. By default, hax uses any available version (preferring the latest one) for each dataset, even if that results in mixing versions in the same analysis. It is sometimes preferable to tie your analysis to a specific pax version, as we've done here to pax version 6.8.0. For more information on this option, see [hax#30](https://github.com/XENON1T/hax/pull/30).\n",
    "  * `minitree_paths` sets the paths hax will look for cached minitree files. The default is to first look in the current directory, and then the common minitree directory for the latest pax version. Since we're tying the analysis to a specific pax version (which will not be the latest forever), we name the directory explicitly here. The first of these paths (here `.`) should be writeable, in case we need to make minitrees that are not yet cached on disk.\n",
    "  \n",
    "Another option you sometimes set is `make_minitrees=False`. With this, datasets whose minitrees are not yet on disk will be skipped in hax.load. This obviously has some risks attached, but it can be quite useful if you have to load a lot of data and don't want to wait a long time for minitree creation.\n",
    "\n",
    "The full list of hax configuration options is [here](https://github.com/XENON1T/hax/blob/master/hax/hax.ini). Note there are specific overrides for Chicago's analysis facilities in the `rcc` section of the file."
   ]
  },
  {
   "cell_type": "markdown",
   "metadata": {
    "deletable": true,
    "editable": true
   },
   "source": [
    "## Dataset selection"
   ]
  },
  {
   "cell_type": "markdown",
   "metadata": {
    "deletable": true,
    "editable": true
   },
   "source": [
    "Let's select all sciencerun1 background data:"
   ]
  },
  {
   "cell_type": "code",
   "execution_count": 2,
   "metadata": {
    "collapsed": false,
    "deletable": true,
    "editable": true
   },
   "outputs": [],
   "source": [
    "ds = hax.runs.tags_selection(include='sciencerun1')\n",
    "ds = ds[\n",
    "    (ds['location'] != \"\")\n",
    "    & (ds['reader__ini__name'] == \"background_stable\")\n",
    "]"
   ]
  },
  {
   "cell_type": "markdown",
   "metadata": {
    "deletable": true,
    "editable": true
   },
   "source": [
    "Let's see what tags are remaining in the selection:"
   ]
  },
  {
   "cell_type": "code",
   "execution_count": 3,
   "metadata": {
    "collapsed": false,
    "deletable": true,
    "editable": true
   },
   "outputs": [
    {
     "data": {
      "text/plain": [
       "Counter({'': 4,\n",
       "         '85': 1,\n",
       "         'AfterNG': 8,\n",
       "         'Blinded': 1,\n",
       "         'Flash': 162,\n",
       "         'FlashTail': 1,\n",
       "         'GW': 1,\n",
       "         'GW170817': 1,\n",
       "         'MVoff': 3,\n",
       "         '_sciencerun1': 6414,\n",
       "         '_sciencerun1_candidate': 6414,\n",
       "         'afterNG': 66,\n",
       "         'blinded': 1904,\n",
       "         'flash': 25,\n",
       "         'readoutbug': 6,\n",
       "         'strange': 4,\n",
       "         'sync_muon_veto': 8,\n",
       "         'wrongtime': 4})"
      ]
     },
     "execution_count": 3,
     "metadata": {},
     "output_type": "execute_result"
    }
   ],
   "source": [
    "hax.runs.count_tags(ds)"
   ]
  },
  {
   "cell_type": "markdown",
   "metadata": {
    "deletable": true,
    "editable": true
   },
   "source": [
    "As expected everything has sciencerun1; there's a leading underscore; this is an implementation detail that indicates the tag can only be removed by people with special permissions. \n",
    "\n",
    "There are still some slightly worrying tags such as 'strange' and 'readoutbug' in here. Let's remove the corresponding datasets for now:"
   ]
  },
  {
   "cell_type": "code",
   "execution_count": 4,
   "metadata": {
    "collapsed": false,
    "deletable": true,
    "editable": true
   },
   "outputs": [
    {
     "data": {
      "text/plain": [
       "Counter({'AfterNG': 8,\n",
       "         'Blinded': 1,\n",
       "         'GW': 1,\n",
       "         'GW170817': 1,\n",
       "         '_sciencerun1': 6148,\n",
       "         '_sciencerun1_candidate': 6148,\n",
       "         'blinded': 1821,\n",
       "         'sync_muon_veto': 8})"
      ]
     },
     "execution_count": 4,
     "metadata": {},
     "output_type": "execute_result"
    }
   ],
   "source": [
    "ds = hax.runs.tags_selection(ds, \n",
    "                             exclude=['readoutbug', 'afterNG', 'strange', 'wrongtime', '*lash*', 'MVoff'])\n",
    "hax.runs.count_tags(ds)"
   ]
  },
  {
   "cell_type": "markdown",
   "metadata": {
    "deletable": true,
    "editable": true
   },
   "source": [
    "To avoid a really long load, let's only select the first 100 datasets, corresponding to the first ~4 days of SR1:"
   ]
  },
  {
   "cell_type": "code",
   "execution_count": 5,
   "metadata": {
    "collapsed": false,
    "deletable": true,
    "editable": true
   },
   "outputs": [
    {
     "data": {
      "text/plain": [
       "Timedelta('4 days 02:49:55')"
      ]
     },
     "execution_count": 5,
     "metadata": {},
     "output_type": "execute_result"
    }
   ],
   "source": [
    "ds = ds[:100]\n",
    "\n",
    "# Compute 'raw' livetime (we'll do corrected livetime later)\n",
    "ds['livetime'] = (ds['end'].values - ds['start'].values)\n",
    "livetime = ds['livetime'].sum()\n",
    "livetime"
   ]
  },
  {
   "cell_type": "markdown",
   "metadata": {
    "deletable": true,
    "editable": true
   },
   "source": [
    "You can get additional information from the run documents with `hax.runs.get_run_info`. For example, let's check all runs use the same PMT gains correction:"
   ]
  },
  {
   "cell_type": "code",
   "execution_count": 6,
   "metadata": {
    "collapsed": false,
    "deletable": true,
    "editable": true
   },
   "outputs": [
    {
     "data": {
      "text/plain": [
       "Counter({'4.0': 100})"
      ]
     },
     "execution_count": 6,
     "metadata": {},
     "output_type": "execute_result"
    }
   ],
   "source": [
    "from collections import Counter\n",
    "versions_used = hax.runs.get_run_info(ds.number, 'processor.correction_versions.AddGains')\n",
    "Counter(versions_used)"
   ]
  },
  {
   "cell_type": "markdown",
   "metadata": {
    "deletable": true,
    "editable": true
   },
   "source": [
    "For all information available in the run doc, see the 'JSON' tab on the [DAQ website rundb interface](https://xenon1t-daq.lngs.infn.it/runs/). A particularly useful section is 'quality', where various higher-level aggregates are stored. I think  For example, you can find the average cathode voltage:"
   ]
  },
  {
   "cell_type": "code",
   "execution_count": 7,
   "metadata": {
    "collapsed": false,
    "deletable": true,
    "editable": true
   },
   "outputs": [
    {
     "data": {
      "image/png": "[encoded data removed]",
      "text/plain": [
       "<matplotlib.figure.Figure at 0x7fd565c00278>"
      ]
     },
     "metadata": {},
     "output_type": "display_data"
    }
   ],
   "source": [
    "cathode_vs = hax.runs.get_run_info(ds.number, 'quality.hv.cathode')\n",
    "\n",
    "plt.scatter(ds.start.values, cathode_vs, marker='.')\n",
    "plt.xlabel('Date/time')\n",
    "plt.ylabel('Cathode voltage (kV)')\n",
    "plt.xlim(ds.start.values[0], ds.start.values[-1])\n",
    "plt.gcf().autofmt_xdate()"
   ]
  },
  {
   "cell_type": "markdown",
   "metadata": {
    "deletable": true,
    "editable": true
   },
   "source": [
    "Or the effective DAQ live-time:"
   ]
  },
  {
   "cell_type": "code",
   "execution_count": 8,
   "metadata": {
    "collapsed": false,
    "deletable": true,
    "editable": true
   },
   "outputs": [
    {
     "data": {
      "text/plain": [
       "Timedelta('4 days 02:47:12.927186')"
      ]
     },
     "execution_count": 8,
     "metadata": {},
     "output_type": "execute_result"
    }
   ],
   "source": [
    "l_fr = hax.runs.get_run_info(ds.number, 'quality.daq.extracted.livetime')\n",
    "ds['corrected_livetime'] = ds['livetime'].values * l_fr\n",
    "ds['corrected_livetime'].sum()"
   ]
  },
  {
   "cell_type": "markdown",
   "metadata": {
    "deletable": true,
    "editable": true
   },
   "source": [
    "## Loading data"
   ]
  },
  {
   "cell_type": "markdown",
   "metadata": {
    "deletable": true,
    "editable": true
   },
   "source": [
    "Let's load a fragment of the SR1 data. This will take a minute to run:"
   ]
  },
  {
   "cell_type": "code",
   "execution_count": 9,
   "metadata": {
    "collapsed": false,
    "deletable": true,
    "editable": true
   },
   "outputs": [
    {
     "name": "stdout",
     "output_type": "stream",
     "text": [
      "(((cs1<252) & (log(cs2_bottom/cs1)/log(10) > 0.466119*exp(-cs1/47.9903) + 1.31033 -0.000314047*cs1 + 1.33977/cs1)) | ((cs1<20) & (log(cs2_bottom/cs1)/log(10) < 1.08159)) | ((20<=cs1) & (log(cs2_bottom/cs1)/log(10) < 1.21239 + -0.0016025*cs1 + -1.97495/cs1)) | ((cs1<500) & (r_3d_nn>47.9)) | (cs1<80) | ((cs1>=375) & (log(cs2_bottom/cs1)/log(10) > 1.02015)) | (cs1>3000) | (largest_other_s2 > 200) | (s2<200) | ((250<cs1) & (cs1<375) & (log(cs2_bottom/cs1)/log(10) > 0.822161*exp(-(cs1-207.702)/343.275) + 0.515139))) & (((0.0137*(cs1/.1429 + cs2_bottom/11.36) < 50.) | (0.0137*(cs1/.1429 + cs2_bottom/11.36) > 80.)) | ((run_number>=8340) & (run_number<=8728)) | ((run_number>17580) & (run_number<=17820))) & (((0.0137*(cs1/.1429 + cs2_bottom/11.36) < 2300.) | (0.0137*(cs1/.1429 + cs2_bottom/11.36) > 2600.))) selection: 313340 rows removed (83.68% passed)\n",
      "cs1 > 0 selection: 0 rows removed (100.00% passed)\n",
      "cs1 < 200 selection: 1567017 rows removed (2.48% passed)\n"
     ]
    }
   ],
   "source": [
    "data = hax.minitrees.load(ds.number[:100],\n",
    "                          preselection=['cs1 > 0', 'cs1 < 200'],\n",
    "                          cache_file='my_secret_stash.hdf5',\n",
    "                          num_workers=5)"
   ]
  },
  {
   "cell_type": "markdown",
   "metadata": {
    "deletable": true,
    "editable": true
   },
   "source": [
    "Notice we did things slightly differently than in the previous tutorial:\n",
    "  * We did not specify any minitrees to load (like 'Basics'). By default, it will then load all minitrees needed to run the current set of cuts.\n",
    "  * The `preselection` option specifies cuts to use while loading the data. The syntax for these 'cut strings' is that of [pandas.query](https://pandas.pydata.org/pandas-docs/stable/generated/pandas.DataFrame.query.html).\n",
    "    * If you're loading many datasets, this option is essential to memory usage low. We loaded 100 datasets (out of ~6000) and used ~60 MB of memory (see `data.info()`); without preselections this would be ~2.5 GB! Hax applies preselections to each dataset before the results are concatenated, so you never need to claim that 2.5 GB. This is a basic form of out-of-core processing; for more advanced out-of-core options, see [other notebook].\n",
    "  * The `cache_file` option ensure the results of the .load are cached to a file in the current directory. Try running the cell above again; it will run almost instantly thanks to this. There is absolutely no check whether the cache file is up to date or not: if you change your dataset selection or preselection, **you** must delete this file!\n",
    "  * The `num_workers` option specifies how many CPUs to use for loading minitrees. Obviously you must be running on a multi-core machine for this to give a speedup.\n",
    "  \n",
    "Note also the printed output: three cuts were applied during loading. The last two are the preselections (notice  one of them didn't do anything), the first (with the really long cutstring) is the blinding cut. This is applied automatically to background data, and occasionally changes depending on the state of the analysis. Even if you've pegged your pax version (as above), this will ensure your analysis inputs can still change without warning. It wouldn't be exciting otherwise..."
   ]
  },
  {
   "cell_type": "markdown",
   "metadata": {
    "deletable": true,
    "editable": true
   },
   "source": [
    "# Event selection"
   ]
  },
  {
   "cell_type": "markdown",
   "metadata": {
    "deletable": true,
    "editable": true
   },
   "source": [
    "Rather than applying our own custom event selections, let's apply pre-made event selections from lax (called 'lichens'). All cuts blessed for mainstream low-energy background analysis are in LowEnergyBackground:"
   ]
  },
  {
   "cell_type": "code",
   "execution_count": 10,
   "metadata": {
    "collapsed": false,
    "deletable": true,
    "editable": true
   },
   "outputs": [
    {
     "name": "stdout",
     "output_type": "stream",
     "text": [
      "LowEnergyBackground v1.5.1 selection: 39856 rows removed (0.08% passed)\n"
     ]
    }
   ],
   "source": [
    "d = hax.cuts.apply_lichen(data, 'LowEnergyBackground')"
   ]
  },
  {
   "cell_type": "markdown",
   "metadata": {
    "deletable": true,
    "editable": true
   },
   "source": [
    "Notice this lists the version of the cut as well as what it did. Remember you can use hax.cuts.history to see what  cuts have been applied:"
   ]
  },
  {
   "cell_type": "code",
   "execution_count": 11,
   "metadata": {
    "collapsed": false,
    "deletable": true,
    "editable": true
   },
   "outputs": [
    {
     "data": {
      "text/html": [
       "<div>\n",
       "<table border=\"1\" class=\"dataframe\">\n",
       "  <thead>\n",
       "    <tr style=\"text-align: right;\">\n",
       "      <th></th>\n",
       "      <th>selection_desc</th>\n",
       "      <th>n_before</th>\n",
       "      <th>n_after</th>\n",
       "      <th>n_removed</th>\n",
       "      <th>fraction_passed</th>\n",
       "      <th>cumulative_fraction_left</th>\n",
       "    </tr>\n",
       "  </thead>\n",
       "  <tbody>\n",
       "    <tr>\n",
       "      <th>0</th>\n",
       "      <td>(((cs1&lt;252) &amp; (log(cs2_bottom/cs1)/log(10) &gt; 0...</td>\n",
       "      <td>1920246</td>\n",
       "      <td>1606906</td>\n",
       "      <td>313340</td>\n",
       "      <td>0.836823</td>\n",
       "      <td>0.836823</td>\n",
       "    </tr>\n",
       "    <tr>\n",
       "      <th>1</th>\n",
       "      <td>cs1 &gt; 0</td>\n",
       "      <td>1606906</td>\n",
       "      <td>1606906</td>\n",
       "      <td>0</td>\n",
       "      <td>1.000000</td>\n",
       "      <td>0.836823</td>\n",
       "    </tr>\n",
       "    <tr>\n",
       "      <th>2</th>\n",
       "      <td>cs1 &lt; 200</td>\n",
       "      <td>1606906</td>\n",
       "      <td>39889</td>\n",
       "      <td>1567017</td>\n",
       "      <td>0.024823</td>\n",
       "      <td>0.020773</td>\n",
       "    </tr>\n",
       "    <tr>\n",
       "      <th>3</th>\n",
       "      <td>LowEnergyBackground v1.5.1</td>\n",
       "      <td>39889</td>\n",
       "      <td>33</td>\n",
       "      <td>39856</td>\n",
       "      <td>0.000827</td>\n",
       "      <td>0.000017</td>\n",
       "    </tr>\n",
       "  </tbody>\n",
       "</table>\n",
       "</div>"
      ],
      "text/plain": [
       "                                      selection_desc  n_before  n_after  n_removed  fraction_passed  cumulative_fraction_left\n",
       "0  (((cs1<252) & (log(cs2_bottom/cs1)/log(10) > 0...   1920246  1606906     313340         0.836823                  0.836823\n",
       "1                                            cs1 > 0   1606906  1606906          0         1.000000                  0.836823\n",
       "2                                          cs1 < 200   1606906    39889    1567017         0.024823                  0.020773\n",
       "3                         LowEnergyBackground v1.5.1     39889       33      39856         0.000827                  0.000017"
      ]
     },
     "execution_count": 11,
     "metadata": {},
     "output_type": "execute_result"
    }
   ],
   "source": [
    "hax.cuts.history(d)"
   ]
  },
  {
   "cell_type": "markdown",
   "metadata": {
    "deletable": true,
    "editable": true
   },
   "source": [
    "and notice this includes the preselections. \n",
    "\n",
    "You can also use lax selections as preselections: just use the lichen name again. For example, `preselection=['FiducialCylinder1T', 'cs1 < 200']` will select all cS1<200 PE events in a 1T fiducial volume. \n",
    "\n",
    "LowEnergyBackground is not a single cut but summarizes many cuts; if you want to see the details of these, pass `deep=True` to `apply_lichen`:"
   ]
  },
  {
   "cell_type": "code",
   "execution_count": 12,
   "metadata": {
    "collapsed": false,
    "deletable": true,
    "editable": true
   },
   "outputs": [
    {
     "name": "stdout",
     "output_type": "stream",
     "text": [
      "FiducialZOptimized v4 selection: 34892 rows removed (12.53% passed)\n",
      "S1LowEnergyRange v0 selection: 0 rows removed (100.00% passed)\n",
      "S2Threshold v1 selection: 1258 rows removed (74.82% passed)\n",
      "InteractionPeaksBiggest v0 selection: 3565 rows removed (4.65% passed)\n",
      "CS2AreaFractionTop v0 selection: 93 rows removed (46.55% passed)\n",
      "S2SingleScatterSimple v2 selection: 31 rows removed (61.73% passed)\n",
      "S2Width v6 selection: 7 rows removed (86.00% passed)\n",
      "DAQVeto v1 selection: 0 rows removed (100.00% passed)\n",
      "S1SingleScatter v3 selection: 3 rows removed (93.02% passed)\n",
      "S2PatternLikelihood v3 selection: 1 rows removed (97.50% passed)\n",
      "KryptonMisIdS1 v0 selection: 1 rows removed (97.44% passed)\n",
      "Flash v0 selection: 0 rows removed (100.00% passed)\n",
      "PosDiff v4 selection: 0 rows removed (100.00% passed)\n",
      "SingleElectronS2s v5 selection: 0 rows removed (100.00% passed)\n",
      "S1PatternLikelihood v3 selection: 0 rows removed (100.00% passed)\n",
      "S1MaxPMT v0 selection: 1 rows removed (97.37% passed)\n",
      "S1AreaFractionTop v4 selection: 0 rows removed (100.00% passed)\n",
      "S1Width v1 selection: 1 rows removed (97.30% passed)\n",
      "S1AreaUpperInjectionFraction v1 selection: 0 rows removed (100.00% passed)\n",
      "S1AreaLowerInjectionFraction v0 selection: 1 rows removed (97.22% passed)\n",
      "PreS2Junk v1 selection: 0 rows removed (100.00% passed)\n",
      "S2Tails v0 selection: 2 rows removed (94.29% passed)\n",
      "MuonVeto v3 selection: 0 rows removed (100.00% passed)\n"
     ]
    }
   ],
   "source": [
    "d = hax.cuts.apply_lichen(data, 'LowEnergyBackground', deep=True)"
   ]
  },
  {
   "cell_type": "markdown",
   "metadata": {
    "deletable": true,
    "editable": true
   },
   "source": [
    "With these cuts applied, you're left with our best selection of low-energy data (though as mentioned this is only a fragment of the full dataset). Feel free to explore, e.g.:"
   ]
  },
  {
   "cell_type": "code",
   "execution_count": 13,
   "metadata": {
    "collapsed": false,
    "deletable": true,
    "editable": true
   },
   "outputs": [
    {
     "data": {
      "text/plain": [
       "<matplotlib.text.Text at 0x7fd49fb6b940>"
      ]
     },
     "execution_count": 13,
     "metadata": {},
     "output_type": "execute_result"
    },
    {
     "data": {
      "image/png": "[encoded data removed]",
      "text/plain": [
       "<matplotlib.figure.Figure at 0x7fd49fb14a90>"
      ]
     },
     "metadata": {},
     "output_type": "display_data"
    }
   ],
   "source": [
    "plt.scatter(d['cs1'], d['cs2'], \n",
    "            c=d['r'], vmin=0, cmap=plt.cm.jet)\n",
    "plt.colorbar(label=\"R (cm)\")\n",
    "plt.xlabel(\"cS1 (pe)\")\n",
    "plt.ylabel(\"cS2 (pe)\")"
   ]
  },
  {
   "cell_type": "markdown",
   "metadata": {
    "deletable": true,
    "editable": true
   },
   "source": [
    "You now know enough about hax to do basic analyses. Have a look at some notebooks from others for more examples. The next tutorial will cover more advanced features of hax, such as creating custom minitrees, which you will likely not need immediately."
   ]
  }
 ],
 "metadata": {
  "kernelspec": {
   "display_name": "Python [default]",
   "language": "python",
   "name": "python3"
  },
  "language_info": {
   "codemirror_mode": {
    "name": "ipython",
    "version": 3
   },
   "file_extension": ".py",
   "mimetype": "text/x-python",
   "name": "python",
   "nbconvert_exporter": "python",
   "pygments_lexer": "ipython3",
   "version": "3.4.5"
  }
 },
 "nbformat": 4,
 "nbformat_minor": 2
}
