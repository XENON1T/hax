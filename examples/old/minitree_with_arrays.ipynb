{
 "cells": [
  {
   "cell_type": "markdown",
   "metadata": {},
   "source": [
    "# Example Usage of Minitree Containing Array Branches\n",
    "\n",
    "This is an example of how to include arrays (of e.g. peak- or event-level data) in your minitree. It grabs some information about the largest N peaks from each event and stores it in array-type fields in the dataframe. Note that array fields are already supported with pickling (i.e. if you use the `hax.init` option `preferred_minitree_format='pklz'`)."
   ]
  },
  {
   "cell_type": "code",
   "execution_count": null,
   "metadata": {
    "collapsed": false
   },
   "outputs": [],
   "source": [
    "import numpy as np\n",
    "import pandas as pd\n",
    "import os\n",
    "import hax\n",
    "\n",
    "dataset = '170109_0716'\n",
    "file_header = '/home/jh3226/analysis/single_electron/'\n",
    "minitree_header = os.path.join(file_header, 'datasets_reduced_practice/')\n",
    "nb_top_peaks = 5"
   ]
  },
  {
   "cell_type": "markdown",
   "metadata": {},
   "source": [
    "### Building the TreeMaker\n",
    "\n",
    "As usual, you make your TreeMaker class and override the extract_data function, which operates on each event and returns a dictionary. The keys of the dictionary become the branch names, and its values become the branch values. After turning on `uses_arrays` in your TreeMaker, you can have dictionary keys which contain arrays. Here I am saving several fields from the largest five peaks in the TPC that are not 'lone_hit's as arrays.\n",
    "\n",
    "Note also that this method doesn't currently accept strings, so I have to convert the 'type' attribute to coded ints."
   ]
  },
  {
   "cell_type": "code",
   "execution_count": null,
   "metadata": {
    "collapsed": false
   },
   "outputs": [],
   "source": [
    "class TopNPeaks(hax.minitrees.TreeMaker):\n",
    "\n",
    "    __version__ = '0.0.1'\n",
    "    uses_arrays = True # this tells hax to allow array fields\n",
    "\n",
    "    def extract_data(self, event):\n",
    "        peak_field_namelist = ['area', 'area_fraction_top', 'width']\n",
    "        peaks = event.peaks\n",
    "        peaks = [peak for peak in peaks if ((peak.type != 'lone_hit') and (peak.detector=='tpc'))]\n",
    "        nb_peaks = len(peaks)\n",
    "        result = {}\n",
    "\n",
    "        # save data in single-valued fields as usual\n",
    "        result['nb_peaks'] = nb_peaks\n",
    "        result['time'] = event.start_time\n",
    "\n",
    "        # get indices of peaks with up to nb_top_peaks largest areas\n",
    "        areas = np.array([peak.area for peak in peaks])\n",
    "        if len(areas)>=nb_top_peaks:\n",
    "            top_indices = np.sort(np.argpartition(areas, -1*nb_top_peaks)[-1*nb_top_peaks:])\n",
    "        else:\n",
    "            top_indices = range(len(areas))\n",
    "\n",
    "        # fill array fields with e.g. peak-level info\n",
    "        for peak_field in peak_field_namelist:\n",
    "            # allow for the case of zero peaks\n",
    "            if nb_peaks == 0:\n",
    "                result[peak_field] = []\n",
    "            elif hasattr(peaks[0], peak_field):\n",
    "                result[peak_field] = np.array([getattr(peaks[peak_index], peak_field) for peak_index in top_indices])\n",
    "            elif peak_field=='width':\n",
    "                result[peak_field] = np.array([list(peaks[peak_index].range_area_decile)[5] for peak_index in top_indices])\n",
    "            else:\n",
    "                raise ValueError(\"Field %s doesn't exist\" % peak_field)\n",
    "        \n",
    "        # convert type to coded ints\n",
    "        type_ints = {'s1': 1, 's2': 2, 'unknown': 3}\n",
    "        result['typecode'] = [type_ints[peaks[peak_index].type] for peak_index in top_indices]\n",
    "        result['peak_index'] = top_indices\n",
    "        return result\n",
    "\n",
    "hax.init(experiment='XENON1T', minitree_paths = [minitree_header])\n",
    "data = hax.minitrees.load(dataset, treemakers=[TopNPeaks])\n",
    "data.head(2)"
   ]
  },
  {
   "cell_type": "markdown",
   "metadata": {},
   "source": [
    "New fields have been created by hax containing the lengths of all of the arrays - this is so that the array-type branches can be built and filled in root.\n",
    "\n",
    "The saved root file can be reloaded as usual through hax."
   ]
  }
 ],
 "metadata": {
  "anaconda-cloud": {},
  "kernelspec": {
   "display_name": "Python [default]",
   "language": "python",
   "name": "python3"
  },
  "language_info": {
   "codemirror_mode": {
    "name": "ipython",
    "version": 3
   },
   "file_extension": ".py",
   "mimetype": "text/x-python",
   "name": "python",
   "nbconvert_exporter": "python",
   "pygments_lexer": "ipython3",
   "version": "3.5.2"
  }
 },
 "nbformat": 4,
 "nbformat_minor": 1
}
