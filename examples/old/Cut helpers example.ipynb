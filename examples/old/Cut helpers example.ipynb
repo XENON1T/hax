{
 "cells": [
  {
   "cell_type": "markdown",
   "metadata": {
    "deletable": true,
    "editable": true
   },
   "source": [
    "# Hax cut helpers example\n",
    "\n",
    "Jelle Aalbers, September 2016"
   ]
  },
  {
   "cell_type": "code",
   "execution_count": 1,
   "metadata": {
    "collapsed": false,
    "deletable": true,
    "editable": true
   },
   "outputs": [
    {
     "name": "stderr",
     "output_type": "stream",
     "text": [
      "/project/lgrandi/anaconda3/envs/pax_head/lib/python3.4/site-packages/IPython/kernel/__init__.py:13: ShimWarning: The `IPython.kernel` package has been deprecated. You should import from ipykernel or jupyter_client instead.\n",
      "  \"You should import from ipykernel or jupyter_client instead.\", ShimWarning)\n"
     ]
    }
   ],
   "source": [
    "import numpy as np\n",
    "\n",
    "import hax\n",
    "from hax import cuts\n",
    "\n",
    "# Put your own minitree paths here:\n",
    "hax.init(minitree_paths=['/home/aalbers/minitrees', '/home/breur/minitrees'])\n",
    "\n",
    "# Load some example data\n",
    "data = hax.minitrees.load(2397)"
   ]
  },
  {
   "cell_type": "markdown",
   "metadata": {
    "deletable": true,
    "editable": true
   },
   "source": [
    "# Basic selections"
   ]
  },
  {
   "cell_type": "markdown",
   "metadata": {
    "deletable": true,
    "editable": true
   },
   "source": [
    "If you've worked with pandas before, you're probably used to applying selections like so:"
   ]
  },
  {
   "cell_type": "code",
   "execution_count": 2,
   "metadata": {
    "collapsed": false,
    "deletable": true,
    "editable": true
   },
   "outputs": [],
   "source": [
    "data_cleaned = data[data['cs1'] > 0]"
   ]
  },
  {
   "cell_type": "markdown",
   "metadata": {
    "deletable": true,
    "editable": true
   },
   "source": [
    "You could use this and forget about the cut helpers in `hax`.\n",
    "\n",
    "With hax.cuts, you can use the `selection` function to do this. The bonus is you get some helpful printout:"
   ]
  },
  {
   "cell_type": "code",
   "execution_count": 3,
   "metadata": {
    "collapsed": false,
    "deletable": true,
    "editable": true
   },
   "outputs": [
    {
     "name": "stdout",
     "output_type": "stream",
     "text": [
      "cs1 positive selection: 2335 events removed (87.25% passed)\n"
     ]
    }
   ],
   "source": [
    "data_cleaned = cuts.selection(data, data['cs1'] > 0, desc='cs1 positive')"
   ]
  },
  {
   "cell_type": "markdown",
   "metadata": {
    "deletable": true,
    "editable": true
   },
   "source": [
    "The returned data is still just an ordinary DataFrame:"
   ]
  },
  {
   "cell_type": "code",
   "execution_count": 12,
   "metadata": {
    "collapsed": false,
    "deletable": true,
    "editable": true
   },
   "outputs": [
    {
     "data": {
      "text/html": [
       "<div>\n",
       "<table border=\"1\" class=\"dataframe\">\n",
       "  <thead>\n",
       "    <tr style=\"text-align: right;\">\n",
       "      <th></th>\n",
       "      <th>run_number</th>\n",
       "      <th>event_number</th>\n",
       "      <th>cs1</th>\n",
       "      <th>cs2</th>\n",
       "      <th>drift_time</th>\n",
       "      <th>largest_coincidence</th>\n",
       "      <th>largest_other_s1</th>\n",
       "      <th>largest_other_s2</th>\n",
       "      <th>largest_unknown</th>\n",
       "      <th>largest_veto</th>\n",
       "      <th>...</th>\n",
       "      <th>s1_area_fraction_top</th>\n",
       "      <th>s1_range_50p_area</th>\n",
       "      <th>s2</th>\n",
       "      <th>s2_area_fraction_top</th>\n",
       "      <th>s2_range_50p_area</th>\n",
       "      <th>x</th>\n",
       "      <th>y</th>\n",
       "      <th>z</th>\n",
       "      <th>event_duration</th>\n",
       "      <th>event_time</th>\n",
       "    </tr>\n",
       "  </thead>\n",
       "  <tbody>\n",
       "    <tr>\n",
       "      <th>0</th>\n",
       "      <td>2397</td>\n",
       "      <td>0</td>\n",
       "      <td>1222.306590</td>\n",
       "      <td>294135.478484</td>\n",
       "      <td>202420.0</td>\n",
       "      <td>0.0</td>\n",
       "      <td>0.000000</td>\n",
       "      <td>476.975220</td>\n",
       "      <td>15.525992</td>\n",
       "      <td>0.0</td>\n",
       "      <td>...</td>\n",
       "      <td>0.231636</td>\n",
       "      <td>59.035375</td>\n",
       "      <td>137789.578125</td>\n",
       "      <td>0.591118</td>\n",
       "      <td>860.407498</td>\n",
       "      <td>17.830200</td>\n",
       "      <td>-35.286343</td>\n",
       "      <td>-29.95816</td>\n",
       "      <td>2000000</td>\n",
       "      <td>1472143174364587770</td>\n",
       "    </tr>\n",
       "    <tr>\n",
       "      <th>1</th>\n",
       "      <td>2397</td>\n",
       "      <td>1</td>\n",
       "      <td>2070.467415</td>\n",
       "      <td>587224.379717</td>\n",
       "      <td>10280.0</td>\n",
       "      <td>0.0</td>\n",
       "      <td>0.000000</td>\n",
       "      <td>4825.305176</td>\n",
       "      <td>15.848387</td>\n",
       "      <td>0.0</td>\n",
       "      <td>...</td>\n",
       "      <td>0.311077</td>\n",
       "      <td>60.353428</td>\n",
       "      <td>565039.562500</td>\n",
       "      <td>0.475916</td>\n",
       "      <td>503.601973</td>\n",
       "      <td>-17.580828</td>\n",
       "      <td>-31.795113</td>\n",
       "      <td>-1.52144</td>\n",
       "      <td>2000000</td>\n",
       "      <td>1472143175532110430</td>\n",
       "    </tr>\n",
       "    <tr>\n",
       "      <th>3</th>\n",
       "      <td>2397</td>\n",
       "      <td>3</td>\n",
       "      <td>4779.406797</td>\n",
       "      <td>964529.400183</td>\n",
       "      <td>57270.0</td>\n",
       "      <td>0.0</td>\n",
       "      <td>0.000000</td>\n",
       "      <td>23758.634766</td>\n",
       "      <td>15.786177</td>\n",
       "      <td>0.0</td>\n",
       "      <td>...</td>\n",
       "      <td>0.292347</td>\n",
       "      <td>65.360561</td>\n",
       "      <td>778285.562500</td>\n",
       "      <td>0.476345</td>\n",
       "      <td>689.031898</td>\n",
       "      <td>-15.336466</td>\n",
       "      <td>29.301378</td>\n",
       "      <td>-8.47596</td>\n",
       "      <td>2000000</td>\n",
       "      <td>1472143175792061000</td>\n",
       "    </tr>\n",
       "    <tr>\n",
       "      <th>4</th>\n",
       "      <td>2397</td>\n",
       "      <td>4</td>\n",
       "      <td>1410.203809</td>\n",
       "      <td>333759.620045</td>\n",
       "      <td>9800.0</td>\n",
       "      <td>0.0</td>\n",
       "      <td>7.264468</td>\n",
       "      <td>1478.398315</td>\n",
       "      <td>15.080420</td>\n",
       "      <td>0.0</td>\n",
       "      <td>...</td>\n",
       "      <td>0.345447</td>\n",
       "      <td>55.567166</td>\n",
       "      <td>321728.468750</td>\n",
       "      <td>0.514536</td>\n",
       "      <td>384.873814</td>\n",
       "      <td>19.326441</td>\n",
       "      <td>34.288849</td>\n",
       "      <td>-1.45040</td>\n",
       "      <td>2000000</td>\n",
       "      <td>1472143175827041280</td>\n",
       "    </tr>\n",
       "    <tr>\n",
       "      <th>5</th>\n",
       "      <td>2397</td>\n",
       "      <td>5</td>\n",
       "      <td>510.975157</td>\n",
       "      <td>266.900761</td>\n",
       "      <td>266360.0</td>\n",
       "      <td>0.0</td>\n",
       "      <td>0.000000</td>\n",
       "      <td>80.707474</td>\n",
       "      <td>14.407209</td>\n",
       "      <td>0.0</td>\n",
       "      <td>...</td>\n",
       "      <td>0.157664</td>\n",
       "      <td>54.571612</td>\n",
       "      <td>98.398926</td>\n",
       "      <td>0.580705</td>\n",
       "      <td>372.379972</td>\n",
       "      <td>8.852757</td>\n",
       "      <td>-46.757519</td>\n",
       "      <td>-39.42128</td>\n",
       "      <td>2000000</td>\n",
       "      <td>1472143176061278640</td>\n",
       "    </tr>\n",
       "  </tbody>\n",
       "</table>\n",
       "<p>5 rows × 21 columns</p>\n",
       "</div>"
      ],
      "text/plain": [
       "   run_number  event_number          cs1            cs2  drift_time  \\\n",
       "0        2397             0  1222.306590  294135.478484    202420.0   \n",
       "1        2397             1  2070.467415  587224.379717     10280.0   \n",
       "3        2397             3  4779.406797  964529.400183     57270.0   \n",
       "4        2397             4  1410.203809  333759.620045      9800.0   \n",
       "5        2397             5   510.975157     266.900761    266360.0   \n",
       "\n",
       "   largest_coincidence  largest_other_s1  largest_other_s2  largest_unknown  \\\n",
       "0                  0.0          0.000000        476.975220        15.525992   \n",
       "1                  0.0          0.000000       4825.305176        15.848387   \n",
       "3                  0.0          0.000000      23758.634766        15.786177   \n",
       "4                  0.0          7.264468       1478.398315        15.080420   \n",
       "5                  0.0          0.000000         80.707474        14.407209   \n",
       "\n",
       "   largest_veto         ...           s1_area_fraction_top  s1_range_50p_area  \\\n",
       "0           0.0         ...                       0.231636          59.035375   \n",
       "1           0.0         ...                       0.311077          60.353428   \n",
       "3           0.0         ...                       0.292347          65.360561   \n",
       "4           0.0         ...                       0.345447          55.567166   \n",
       "5           0.0         ...                       0.157664          54.571612   \n",
       "\n",
       "              s2  s2_area_fraction_top  s2_range_50p_area          x  \\\n",
       "0  137789.578125              0.591118         860.407498  17.830200   \n",
       "1  565039.562500              0.475916         503.601973 -17.580828   \n",
       "3  778285.562500              0.476345         689.031898 -15.336466   \n",
       "4  321728.468750              0.514536         384.873814  19.326441   \n",
       "5      98.398926              0.580705         372.379972   8.852757   \n",
       "\n",
       "           y         z  event_duration           event_time  \n",
       "0 -35.286343 -29.95816         2000000  1472143174364587770  \n",
       "1 -31.795113  -1.52144         2000000  1472143175532110430  \n",
       "3  29.301378  -8.47596         2000000  1472143175792061000  \n",
       "4  34.288849  -1.45040         2000000  1472143175827041280  \n",
       "5 -46.757519 -39.42128         2000000  1472143176061278640  \n",
       "\n",
       "[5 rows x 21 columns]"
      ]
     },
     "execution_count": 12,
     "metadata": {},
     "output_type": "execute_result"
    }
   ],
   "source": [
    "data_cleaned.head()"
   ]
  },
  {
   "cell_type": "markdown",
   "metadata": {
    "deletable": true,
    "editable": true
   },
   "source": [
    "Shortcuts are available for simple cuts: `above`, `below`, `notnan`, `isfinite`:"
   ]
  },
  {
   "cell_type": "code",
   "execution_count": 4,
   "metadata": {
    "collapsed": false,
    "deletable": true,
    "editable": true
   },
   "outputs": [
    {
     "name": "stdout",
     "output_type": "stream",
     "text": [
      "cs1 above 0 selection: 2335 events removed (87.25% passed)\n"
     ]
    }
   ],
   "source": [
    "data = cuts.above(data, 'cs1', 0)"
   ]
  },
  {
   "cell_type": "markdown",
   "metadata": {
    "deletable": true,
    "editable": true
   },
   "source": [
    "There's also a `cuts.cut` function, which removes the selected events rather than passes them. All the functions below that have `selection` in their name have a similar counterpart with `cut`."
   ]
  },
  {
   "cell_type": "markdown",
   "metadata": {
    "deletable": true,
    "editable": true
   },
   "source": [
    "# Range selections"
   ]
  },
  {
   "cell_type": "markdown",
   "metadata": {
    "deletable": true,
    "editable": true
   },
   "source": [
    "You'll often want to require a certain variable to be in a certain range. That's where `range_selection` is for:"
   ]
  },
  {
   "cell_type": "code",
   "execution_count": 5,
   "metadata": {
    "collapsed": false,
    "deletable": true,
    "editable": true
   },
   "outputs": [
    {
     "name": "stdout",
     "output_type": "stream",
     "text": [
      "z in [-20, -10) selection: 14407 events removed (9.82% passed)\n"
     ]
    }
   ],
   "source": [
    "z_slice = cuts.range_selection(data, 'z', (-20, -10))"
   ]
  },
  {
   "cell_type": "markdown",
   "metadata": {
    "deletable": true,
    "editable": true
   },
   "source": [
    "If you have several range selections, you can apply them in one go using `range_selections`:"
   ]
  },
  {
   "cell_type": "code",
   "execution_count": 6,
   "metadata": {
    "collapsed": false,
    "deletable": true,
    "editable": true
   },
   "outputs": [
    {
     "name": "stdout",
     "output_type": "stream",
     "text": [
      "x in [0, 60) selection: 8132 events removed (49.10% passed)\n",
      "y in [0, 60) selection: 3814 events removed (51.38% passed)\n"
     ]
    }
   ],
   "source": [
    "first_quadrant = cuts.range_selections(data, ('x', (0, 60)), ('y', (0, 60)))"
   ]
  },
  {
   "cell_type": "markdown",
   "metadata": {
    "deletable": true,
    "editable": true
   },
   "source": [
    "# Cut history"
   ]
  },
  {
   "cell_type": "markdown",
   "metadata": {
    "deletable": true,
    "editable": true
   },
   "source": [
    "hax.cuts keeps track of which cuts you've applied on your DataFrames. You can access this information via cuts.history:"
   ]
  },
  {
   "cell_type": "code",
   "execution_count": 7,
   "metadata": {
    "collapsed": false,
    "deletable": true,
    "editable": true
   },
   "outputs": [
    {
     "data": {
      "text/html": [
       "<div>\n",
       "<table border=\"1\" class=\"dataframe\">\n",
       "  <thead>\n",
       "    <tr style=\"text-align: right;\">\n",
       "      <th></th>\n",
       "      <th>selection_desc</th>\n",
       "      <th>n_before</th>\n",
       "      <th>n_after</th>\n",
       "      <th>n_removed</th>\n",
       "      <th>fraction_passed</th>\n",
       "      <th>cumulative_fraction_left</th>\n",
       "    </tr>\n",
       "  </thead>\n",
       "  <tbody>\n",
       "    <tr>\n",
       "      <th>0</th>\n",
       "      <td>cs1 above 0</td>\n",
       "      <td>18311</td>\n",
       "      <td>15976</td>\n",
       "      <td>2335</td>\n",
       "      <td>0.872481</td>\n",
       "      <td>0.872481</td>\n",
       "    </tr>\n",
       "    <tr>\n",
       "      <th>1</th>\n",
       "      <td>x in [0, 60)</td>\n",
       "      <td>15976</td>\n",
       "      <td>7844</td>\n",
       "      <td>8132</td>\n",
       "      <td>0.490986</td>\n",
       "      <td>0.428376</td>\n",
       "    </tr>\n",
       "    <tr>\n",
       "      <th>2</th>\n",
       "      <td>y in [0, 60)</td>\n",
       "      <td>7844</td>\n",
       "      <td>4030</td>\n",
       "      <td>3814</td>\n",
       "      <td>0.513768</td>\n",
       "      <td>0.220086</td>\n",
       "    </tr>\n",
       "  </tbody>\n",
       "</table>\n",
       "</div>"
      ],
      "text/plain": [
       "  selection_desc  n_before  n_after  n_removed  fraction_passed  \\\n",
       "0    cs1 above 0     18311    15976       2335         0.872481   \n",
       "1   x in [0, 60)     15976     7844       8132         0.490986   \n",
       "2   y in [0, 60)      7844     4030       3814         0.513768   \n",
       "\n",
       "   cumulative_fraction_left  \n",
       "0                  0.872481  \n",
       "1                  0.428376  \n",
       "2                  0.220086  "
      ]
     },
     "execution_count": 7,
     "metadata": {},
     "output_type": "execute_result"
    }
   ],
   "source": [
    "cuts.history(first_quadrant)"
   ]
  },
  {
   "cell_type": "markdown",
   "metadata": {
    "deletable": true,
    "editable": true
   },
   "source": [
    "This dataframe shows the selection you applied and some info about them. This is especially useful if you have multiple dataframes with different cuts around:"
   ]
  },
  {
   "cell_type": "code",
   "execution_count": 8,
   "metadata": {
    "collapsed": false,
    "deletable": true,
    "editable": true
   },
   "outputs": [
    {
     "data": {
      "text/html": [
       "<div>\n",
       "<table border=\"1\" class=\"dataframe\">\n",
       "  <thead>\n",
       "    <tr style=\"text-align: right;\">\n",
       "      <th></th>\n",
       "      <th>selection_desc</th>\n",
       "      <th>n_before</th>\n",
       "      <th>n_after</th>\n",
       "      <th>n_removed</th>\n",
       "      <th>fraction_passed</th>\n",
       "      <th>cumulative_fraction_left</th>\n",
       "    </tr>\n",
       "  </thead>\n",
       "  <tbody>\n",
       "    <tr>\n",
       "      <th>0</th>\n",
       "      <td>cs1 above 0</td>\n",
       "      <td>18311</td>\n",
       "      <td>15976</td>\n",
       "      <td>2335</td>\n",
       "      <td>0.872481</td>\n",
       "      <td>0.872481</td>\n",
       "    </tr>\n",
       "    <tr>\n",
       "      <th>1</th>\n",
       "      <td>z in [-20, -10)</td>\n",
       "      <td>15976</td>\n",
       "      <td>1569</td>\n",
       "      <td>14407</td>\n",
       "      <td>0.098210</td>\n",
       "      <td>0.085686</td>\n",
       "    </tr>\n",
       "  </tbody>\n",
       "</table>\n",
       "</div>"
      ],
      "text/plain": [
       "    selection_desc  n_before  n_after  n_removed  fraction_passed  \\\n",
       "0      cs1 above 0     18311    15976       2335         0.872481   \n",
       "1  z in [-20, -10)     15976     1569      14407         0.098210   \n",
       "\n",
       "   cumulative_fraction_left  \n",
       "0                  0.872481  \n",
       "1                  0.085686  "
      ]
     },
     "execution_count": 8,
     "metadata": {},
     "output_type": "execute_result"
    }
   ],
   "source": [
    "cuts.history(z_slice)"
   ]
  },
  {
   "cell_type": "markdown",
   "metadata": {
    "deletable": true,
    "editable": true
   },
   "source": [
    "Here's what the columns mean:\n",
    " - **selection_desc**: Description of the selection, i.e., which events did this select?\n",
    " - **n_before**: events in the dataframe before the cut.\n",
    " - **n_after**: events in the dataframe after the cut.\n",
    " - **n_removed**: events removed by the cut\n",
    " - **fraction_passed**: fraction of events before the cut that were passed.\n",
    " - **cumulative_fractoin_left**: fraction of events from the *original* data (before any cuts) left after this cut."
   ]
  },
  {
   "cell_type": "markdown",
   "metadata": {
    "deletable": true,
    "editable": true
   },
   "source": [
    "There are some limitations to this cut history recording:\n",
    "  * We can't register cuts you perform outside of hax.cuts (eg. with the `data = data[mask]` syntax)\n",
    "  * If you copy a dataframe, or save/load it from a file, this history is lost."
   ]
  },
  {
   "cell_type": "markdown",
   "metadata": {
    "deletable": true,
    "editable": true
   },
   "source": [
    "# Repeating cuts"
   ]
  },
  {
   "cell_type": "markdown",
   "metadata": {
    "deletable": true,
    "editable": true
   },
   "source": [
    "Sometimes you accidentally repeat cuts (for example by running a cell twice). While this is harmless, it would print out a confusing passthrough info (\"100% passed!\") and clutter the cut history. For this reason `hax.cuts` prevents you from applying a cut with the same description twice:"
   ]
  },
  {
   "cell_type": "code",
   "execution_count": 9,
   "metadata": {
    "collapsed": false,
    "deletable": true,
    "editable": true
   },
   "outputs": [
    {
     "name": "stdout",
     "output_type": "stream",
     "text": [
      "z in [-20, -10) selection already performed on this data; cut skipped. Use force_repeat=True to repeat. Showing historical passthrough info.\n",
      "z in [-20, -10) selection: 14407 events removed (9.82% passed)\n"
     ]
    }
   ],
   "source": [
    "z_slice = cuts.range_selection(z_slice, 'z', (-20, -10))"
   ]
  },
  {
   "cell_type": "code",
   "execution_count": 10,
   "metadata": {
    "collapsed": false,
    "deletable": true,
    "editable": true,
    "scrolled": true
   },
   "outputs": [
    {
     "data": {
      "text/html": [
       "<div>\n",
       "<table border=\"1\" class=\"dataframe\">\n",
       "  <thead>\n",
       "    <tr style=\"text-align: right;\">\n",
       "      <th></th>\n",
       "      <th>selection_desc</th>\n",
       "      <th>n_before</th>\n",
       "      <th>n_after</th>\n",
       "      <th>n_removed</th>\n",
       "      <th>fraction_passed</th>\n",
       "      <th>cumulative_fraction_left</th>\n",
       "    </tr>\n",
       "  </thead>\n",
       "  <tbody>\n",
       "    <tr>\n",
       "      <th>0</th>\n",
       "      <td>cs1 above 0</td>\n",
       "      <td>18311</td>\n",
       "      <td>15976</td>\n",
       "      <td>2335</td>\n",
       "      <td>0.872481</td>\n",
       "      <td>0.872481</td>\n",
       "    </tr>\n",
       "    <tr>\n",
       "      <th>1</th>\n",
       "      <td>z in [-20, -10)</td>\n",
       "      <td>15976</td>\n",
       "      <td>1569</td>\n",
       "      <td>14407</td>\n",
       "      <td>0.098210</td>\n",
       "      <td>0.085686</td>\n",
       "    </tr>\n",
       "  </tbody>\n",
       "</table>\n",
       "</div>"
      ],
      "text/plain": [
       "    selection_desc  n_before  n_after  n_removed  fraction_passed  \\\n",
       "0      cs1 above 0     18311    15976       2335         0.872481   \n",
       "1  z in [-20, -10)     15976     1569      14407         0.098210   \n",
       "\n",
       "   cumulative_fraction_left  \n",
       "0                  0.872481  \n",
       "1                  0.085686  "
      ]
     },
     "execution_count": 10,
     "metadata": {},
     "output_type": "execute_result"
    }
   ],
   "source": [
    "cuts.history(z_slice)"
   ]
  },
  {
   "cell_type": "markdown",
   "metadata": {
    "deletable": true,
    "editable": true
   },
   "source": [
    "Again, there are some limitations:\n",
    " * `hax.cuts` merely checks the description (`desc` argument) of the cut. If you provide your own descriptions, it will not protect you against repeating the same cut under a different name.\n",
    " * We can't warn you against overlapping cuts, e.g. first selecting [-20, -10] in z and then selecting [-15, -5]. \n",
    " \n",
    "If for some arcane reason you want to circumvent this protection altogether, pass the force_repeat=True argument to a selection/cut function."
   ]
  }
 ],
 "metadata": {
  "kernelspec": {
   "display_name": "Python 3",
   "language": "python",
   "name": "python3"
  },
  "language_info": {
   "codemirror_mode": {
    "name": "ipython",
    "version": 3
   },
   "file_extension": ".py",
   "mimetype": "text/x-python",
   "name": "python",
   "nbconvert_exporter": "python",
   "pygments_lexer": "ipython3",
   "version": "3.4.4"
  }
 },
 "nbformat": 4,
 "nbformat_minor": 1
}
