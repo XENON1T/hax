{
 "cells": [
  {
   "cell_type": "markdown",
   "metadata": {},
   "source": [
    "# Preselections and out-of-core computations with hax"
   ]
  },
  {
   "cell_type": "markdown",
   "metadata": {},
   "source": [
    "Jelle, 7 October 2016"
   ]
  },
  {
   "cell_type": "code",
   "execution_count": 1,
   "metadata": {
    "collapsed": false
   },
   "outputs": [
    {
     "name": "stderr",
     "output_type": "stream",
     "text": [
      "/project/lgrandi/anaconda3/envs/pax_head/lib/python3.4/site-packages/IPython/kernel/__init__.py:13: ShimWarning: The `IPython.kernel` package has been deprecated. You should import from ipykernel or jupyter_client instead.\n",
      "  \"You should import from ipykernel or jupyter_client instead.\", ShimWarning)\n"
     ]
    }
   ],
   "source": [
    "import logging\n",
    "logging.basicConfig(level=logging.INFO)\n",
    "\n",
    "import numpy as np\n",
    "import pandas as pd\n",
    "from tqdm import tqdm\n",
    "import dask\n",
    "\n",
    "import matplotlib\n",
    "%matplotlib inline\n",
    "import matplotlib.pyplot as plt\n",
    "\n",
    "from pax.configuration import load_configuration\n",
    "pax_config = load_configuration('XENON1T')\n",
    "\n",
    "import hax\n",
    "from hax import cuts\n",
    "# Load minitrees from several analysts kind enough to share their home directory\n",
    "# If you think this is getting crazy, I agree... the solution is a common minitree folder\n",
    "# with pre-made basics minitrees. But that would require someone maintaining it.\n",
    "hax.init(minitree_paths=['.', \n",
    "                         '/home/aalbers/minitrees', \n",
    "                         '/home/breur/minitrees/v5.6.2', \n",
    "                         '/home/alecstein/projects/minitrees'])"
   ]
  },
  {
   "cell_type": "markdown",
   "metadata": {},
   "source": [
    "Let's select run numbers for about 8 days of background data. This selection is similar to the one used by Fei and Sander for their low-energy background notes."
   ]
  },
  {
   "cell_type": "code",
   "execution_count": 2,
   "metadata": {
    "collapsed": true
   },
   "outputs": [],
   "source": [
    "time_range = [pd.to_datetime('09/21/2016'), pd.to_datetime('10/01/2016')]\n",
    "query = ('source__type == \"none\"   &'                          # Background\n",
    "         'tags == \"\" & location != \"\"   &'                     # Nothing weird,\n",
    "         'start > @time_range[0] & end < @time_range[1]')      # In the time range\n",
    "run_numbers = hax.runs.datasets.query(query, local_dict=dict(time_range=time_range)).number.values"
   ]
  },
  {
   "cell_type": "code",
   "execution_count": 3,
   "metadata": {
    "collapsed": false
   },
   "outputs": [
    {
     "name": "stdout",
     "output_type": "stream",
     "text": [
      "Total lifetime: 7 days 20:03:04\n"
     ]
    }
   ],
   "source": [
    "dsets = hax.runs.datasets[np.in1d(hax.runs.datasets.number, run_numbers)]\n",
    "livetime = (dsets.end - dsets.start).sum()\n",
    "print(\"Total lifetime: %s\" % livetime)"
   ]
  },
  {
   "cell_type": "markdown",
   "metadata": {},
   "source": [
    "Trying to load this the usual way:\n",
    "    \n",
    "    data = hax.minitrees.load(run_numbers)\n",
    "    \n",
    "is possible, but takes a minute or more and 2 GB of RAM.\n",
    "    \n",
    "Clearly this will not scale to using even larger datasets (several weeks of bg data, or some high-rate calibration data) or more complicated analysis using more variables."
   ]
  },
  {
   "cell_type": "markdown",
   "metadata": {},
   "source": [
    "# Preselections"
   ]
  },
  {
   "cell_type": "markdown",
   "metadata": {},
   "source": [
    "Often you're interested in a small part of the data, e.g. the low-energy events. You can then use the preselection option:"
   ]
  },
  {
   "cell_type": "code",
   "execution_count": 4,
   "metadata": {
    "collapsed": false
   },
   "outputs": [
    {
     "name": "stderr",
     "output_type": "stream",
     "text": [
      "/project/lgrandi/anaconda3/envs/pax_head/lib/python3.4/site-packages/pandas/computation/align.py:98: RuntimeWarning: divide by zero encountered in log10\n",
      "  ordm = np.log10(abs(reindexer_size - term_axis_size))\n"
     ]
    },
    {
     "name": "stdout",
     "output_type": "stream",
     "text": [
      "cs1 < 200 selection: 3660207 rows removed (1.58% passed)\n"
     ]
    }
   ],
   "source": [
    "data = hax.minitrees.load(run_numbers, preselection='cs1 < 200', num_workers=4)"
   ]
  },
  {
   "cell_type": "markdown",
   "metadata": {},
   "source": [
    "This combines particularly well with parallel minitree loading (as shown above), since the preselection can then be applied separately on each run, i.e. \"out of core\". \n",
    "\n",
    "Note that 'cs1' is just a variable defined by the basic treemaker; you can use any other variable defined by a treemarker you're loading in. So if you have more complicated preselection cuts, use a treemaker to output a cut boolean (or p-value, or whatever you want to cut on) and use that in the preselection string. The preselection is evaluated for every run after merging the dataframes for different treemakers.\n",
    "\n",
    "The cut history of your preselection is kept, as if you did a normal cut."
   ]
  },
  {
   "cell_type": "code",
   "execution_count": 5,
   "metadata": {
    "collapsed": false
   },
   "outputs": [
    {
     "data": {
      "text/html": [
       "<div>\n",
       "<table border=\"1\" class=\"dataframe\">\n",
       "  <thead>\n",
       "    <tr style=\"text-align: right;\">\n",
       "      <th></th>\n",
       "      <th>selection_desc</th>\n",
       "      <th>n_before</th>\n",
       "      <th>n_after</th>\n",
       "      <th>n_removed</th>\n",
       "      <th>fraction_passed</th>\n",
       "      <th>cumulative_fraction_left</th>\n",
       "    </tr>\n",
       "  </thead>\n",
       "  <tbody>\n",
       "    <tr>\n",
       "      <th>0</th>\n",
       "      <td>cs1 &lt; 200</td>\n",
       "      <td>3719091</td>\n",
       "      <td>58884</td>\n",
       "      <td>3660207</td>\n",
       "      <td>0.015833</td>\n",
       "      <td>0.015833</td>\n",
       "    </tr>\n",
       "  </tbody>\n",
       "</table>\n",
       "</div>"
      ],
      "text/plain": [
       "  selection_desc  n_before  n_after  n_removed  fraction_passed  \\\n",
       "0      cs1 < 200   3719091    58884    3660207         0.015833   \n",
       "\n",
       "   cumulative_fraction_left  \n",
       "0                  0.015833  "
      ]
     },
     "execution_count": 5,
     "metadata": {},
     "output_type": "execute_result"
    }
   ],
   "source": [
    "cuts.history(data)"
   ]
  },
  {
   "cell_type": "code",
   "execution_count": 6,
   "metadata": {
    "collapsed": false
   },
   "outputs": [
    {
     "data": {
      "text/html": [
       "<div>\n",
       "<table border=\"1\" class=\"dataframe\">\n",
       "  <thead>\n",
       "    <tr style=\"text-align: right;\">\n",
       "      <th></th>\n",
       "      <th>selection_desc</th>\n",
       "      <th>n_before</th>\n",
       "      <th>n_after</th>\n",
       "      <th>n_removed</th>\n",
       "      <th>fraction_passed</th>\n",
       "      <th>cumulative_fraction_left</th>\n",
       "    </tr>\n",
       "  </thead>\n",
       "  <tbody>\n",
       "    <tr>\n",
       "      <th>0</th>\n",
       "      <td>cs1 &lt; 200</td>\n",
       "      <td>3719091</td>\n",
       "      <td>58884</td>\n",
       "      <td>3660207</td>\n",
       "      <td>0.015833</td>\n",
       "      <td>0.015833</td>\n",
       "    </tr>\n",
       "    <tr>\n",
       "      <th>1</th>\n",
       "      <td>x above 10</td>\n",
       "      <td>265028</td>\n",
       "      <td>81585</td>\n",
       "      <td>183443</td>\n",
       "      <td>0.307835</td>\n",
       "      <td>0.021937</td>\n",
       "    </tr>\n",
       "  </tbody>\n",
       "</table>\n",
       "</div>"
      ],
      "text/plain": [
       "  selection_desc  n_before  n_after  n_removed  fraction_passed  \\\n",
       "0      cs1 < 200   3719091    58884    3660207         0.015833   \n",
       "1     x above 10    265028    81585     183443         0.307835   \n",
       "\n",
       "   cumulative_fraction_left  \n",
       "0                  0.015833  \n",
       "1                  0.021937  "
      ]
     },
     "execution_count": 6,
     "metadata": {},
     "output_type": "execute_result"
    }
   ],
   "source": [
    "data = cuts.above(data, 'x', 10)\n",
    "cuts.history(data)"
   ]
  },
  {
   "cell_type": "code",
   "execution_count": 7,
   "metadata": {
    "collapsed": false
   },
   "outputs": [
    {
     "name": "stderr",
     "output_type": "stream",
     "text": [
      "/project/lgrandi/anaconda3/envs/pax_head/lib/python3.4/site-packages/pandas/computation/align.py:98: RuntimeWarning: divide by zero encountered in log10\n",
      "  ordm = np.log10(abs(reindexer_size - term_axis_size))\n"
     ]
    }
   ],
   "source": [
    "data = hax.minitrees.load(run_numbers, preselection=['cs1 > 0'],\n",
    "                          delayed=True)"
   ]
  },
  {
   "cell_type": "markdown",
   "metadata": {},
   "source": [
    "If you apply multiple preselections, it is recommended to use a list of strings rather than '&'-ing the conditions together. This way we can separate the passthrough info."
   ]
  },
  {
   "cell_type": "code",
   "execution_count": 8,
   "metadata": {
    "collapsed": false
   },
   "outputs": [
    {
     "name": "stderr",
     "output_type": "stream",
     "text": [
      "/project/lgrandi/anaconda3/envs/pax_head/lib/python3.4/site-packages/pandas/computation/align.py:98: RuntimeWarning: divide by zero encountered in log10\n",
      "  ordm = np.log10(abs(reindexer_size - term_axis_size))\n"
     ]
    },
    {
     "name": "stdout",
     "output_type": "stream",
     "text": [
      "cs1 < 200 selection: 3727110 rows removed (1.56% passed)\n",
      "x**2 + y**2 < 20**2 selection: 233553 rows removed (8.82% passed)\n"
     ]
    }
   ],
   "source": [
    "data = hax.minitrees.load(run_numbers, \n",
    "                          preselection=['cs1 < 200', 'x**2 + y**2 < 20**2'],\n",
    "                          num_workers=4)"
   ]
  },
  {
   "cell_type": "code",
   "execution_count": 9,
   "metadata": {
    "collapsed": false
   },
   "outputs": [
    {
     "data": {
      "text/html": [
       "<div>\n",
       "<table border=\"1\" class=\"dataframe\">\n",
       "  <thead>\n",
       "    <tr style=\"text-align: right;\">\n",
       "      <th></th>\n",
       "      <th>selection_desc</th>\n",
       "      <th>n_before</th>\n",
       "      <th>n_after</th>\n",
       "      <th>n_removed</th>\n",
       "      <th>fraction_passed</th>\n",
       "      <th>cumulative_fraction_left</th>\n",
       "    </tr>\n",
       "  </thead>\n",
       "  <tbody>\n",
       "    <tr>\n",
       "      <th>0</th>\n",
       "      <td>cs1 &lt; 200</td>\n",
       "      <td>3785998</td>\n",
       "      <td>58888</td>\n",
       "      <td>3727110</td>\n",
       "      <td>0.015554</td>\n",
       "      <td>0.015554</td>\n",
       "    </tr>\n",
       "    <tr>\n",
       "      <th>1</th>\n",
       "      <td>x**2 + y**2 &lt; 20**2</td>\n",
       "      <td>256151</td>\n",
       "      <td>22598</td>\n",
       "      <td>233553</td>\n",
       "      <td>0.088221</td>\n",
       "      <td>0.005969</td>\n",
       "    </tr>\n",
       "  </tbody>\n",
       "</table>\n",
       "</div>"
      ],
      "text/plain": [
       "        selection_desc  n_before  n_after  n_removed  fraction_passed  \\\n",
       "0            cs1 < 200   3785998    58888    3727110         0.015554   \n",
       "1  x**2 + y**2 < 20**2    256151    22598     233553         0.088221   \n",
       "\n",
       "   cumulative_fraction_left  \n",
       "0                  0.015554  \n",
       "1                  0.005969  "
      ]
     },
     "execution_count": 9,
     "metadata": {},
     "output_type": "execute_result"
    }
   ],
   "source": [
    "cuts.history(data)"
   ]
  },
  {
   "cell_type": "code",
   "execution_count": 10,
   "metadata": {
    "collapsed": false
   },
   "outputs": [
    {
     "data": {
      "text/html": [
       "<div>\n",
       "<table border=\"1\" class=\"dataframe\">\n",
       "  <thead>\n",
       "    <tr style=\"text-align: right;\">\n",
       "      <th></th>\n",
       "      <th>run_number</th>\n",
       "      <th>event_number</th>\n",
       "      <th>cs1</th>\n",
       "      <th>cs2</th>\n",
       "      <th>drift_time</th>\n",
       "      <th>largest_coincidence</th>\n",
       "      <th>largest_other_s1</th>\n",
       "      <th>largest_other_s2</th>\n",
       "      <th>largest_unknown</th>\n",
       "      <th>largest_veto</th>\n",
       "      <th>...</th>\n",
       "      <th>s1_area_fraction_top</th>\n",
       "      <th>s1_range_50p_area</th>\n",
       "      <th>s2</th>\n",
       "      <th>s2_area_fraction_top</th>\n",
       "      <th>s2_range_50p_area</th>\n",
       "      <th>x</th>\n",
       "      <th>y</th>\n",
       "      <th>z</th>\n",
       "      <th>event_duration</th>\n",
       "      <th>event_time</th>\n",
       "    </tr>\n",
       "  </thead>\n",
       "  <tbody>\n",
       "    <tr>\n",
       "      <th>336</th>\n",
       "      <td>3014</td>\n",
       "      <td>336</td>\n",
       "      <td>131.193485</td>\n",
       "      <td>192877.172274</td>\n",
       "      <td>1150.0</td>\n",
       "      <td>0.0</td>\n",
       "      <td>0.000000</td>\n",
       "      <td>1304.783691</td>\n",
       "      <td>13.162566</td>\n",
       "      <td>0.0</td>\n",
       "      <td>...</td>\n",
       "      <td>0.325104</td>\n",
       "      <td>57.897387</td>\n",
       "      <td>192127.453125</td>\n",
       "      <td>0.551483</td>\n",
       "      <td>261.008343</td>\n",
       "      <td>13.092105</td>\n",
       "      <td>-13.840225</td>\n",
       "      <td>-0.17020</td>\n",
       "      <td>2650140</td>\n",
       "      <td>1474505513654728430</td>\n",
       "    </tr>\n",
       "    <tr>\n",
       "      <th>832</th>\n",
       "      <td>3014</td>\n",
       "      <td>832</td>\n",
       "      <td>70.982268</td>\n",
       "      <td>78683.997440</td>\n",
       "      <td>1090.0</td>\n",
       "      <td>0.0</td>\n",
       "      <td>8.007159</td>\n",
       "      <td>741.755005</td>\n",
       "      <td>14.234510</td>\n",
       "      <td>0.0</td>\n",
       "      <td>...</td>\n",
       "      <td>0.351792</td>\n",
       "      <td>48.172087</td>\n",
       "      <td>78394.078125</td>\n",
       "      <td>0.571569</td>\n",
       "      <td>181.780709</td>\n",
       "      <td>-15.336466</td>\n",
       "      <td>-3.865288</td>\n",
       "      <td>-0.16132</td>\n",
       "      <td>2385890</td>\n",
       "      <td>1474505576503544370</td>\n",
       "    </tr>\n",
       "    <tr>\n",
       "      <th>1571</th>\n",
       "      <td>3014</td>\n",
       "      <td>1571</td>\n",
       "      <td>97.317671</td>\n",
       "      <td>656003.589052</td>\n",
       "      <td>5350.0</td>\n",
       "      <td>0.0</td>\n",
       "      <td>0.000000</td>\n",
       "      <td>160894.843750</td>\n",
       "      <td>18.078890</td>\n",
       "      <td>0.0</td>\n",
       "      <td>...</td>\n",
       "      <td>0.762105</td>\n",
       "      <td>17.281575</td>\n",
       "      <td>644225.062500</td>\n",
       "      <td>0.480113</td>\n",
       "      <td>396.418828</td>\n",
       "      <td>-13.590852</td>\n",
       "      <td>13.092105</td>\n",
       "      <td>-0.79180</td>\n",
       "      <td>4887090</td>\n",
       "      <td>1474505666073927260</td>\n",
       "    </tr>\n",
       "    <tr>\n",
       "      <th>1599</th>\n",
       "      <td>3014</td>\n",
       "      <td>1599</td>\n",
       "      <td>8.692314</td>\n",
       "      <td>92.760054</td>\n",
       "      <td>36910.0</td>\n",
       "      <td>0.0</td>\n",
       "      <td>0.000000</td>\n",
       "      <td>31204.626953</td>\n",
       "      <td>14.676259</td>\n",
       "      <td>0.0</td>\n",
       "      <td>...</td>\n",
       "      <td>0.126685</td>\n",
       "      <td>12.438091</td>\n",
       "      <td>81.860634</td>\n",
       "      <td>0.669333</td>\n",
       "      <td>907.345139</td>\n",
       "      <td>18.328947</td>\n",
       "      <td>-2.369048</td>\n",
       "      <td>-5.46268</td>\n",
       "      <td>2230510</td>\n",
       "      <td>1474505669366812070</td>\n",
       "    </tr>\n",
       "    <tr>\n",
       "      <th>1838</th>\n",
       "      <td>3014</td>\n",
       "      <td>1838</td>\n",
       "      <td>9.249316</td>\n",
       "      <td>192.272268</td>\n",
       "      <td>22250.0</td>\n",
       "      <td>0.0</td>\n",
       "      <td>0.000000</td>\n",
       "      <td>128323.656250</td>\n",
       "      <td>14.134089</td>\n",
       "      <td>0.0</td>\n",
       "      <td>...</td>\n",
       "      <td>0.000000</td>\n",
       "      <td>13.252068</td>\n",
       "      <td>178.316742</td>\n",
       "      <td>0.585296</td>\n",
       "      <td>1413.922676</td>\n",
       "      <td>9.850250</td>\n",
       "      <td>0.124687</td>\n",
       "      <td>-3.29300</td>\n",
       "      <td>2395870</td>\n",
       "      <td>1474505698486137350</td>\n",
       "    </tr>\n",
       "  </tbody>\n",
       "</table>\n",
       "<p>5 rows × 21 columns</p>\n",
       "</div>"
      ],
      "text/plain": [
       "      run_number  event_number         cs1            cs2  drift_time  \\\n",
       "336         3014           336  131.193485  192877.172274      1150.0   \n",
       "832         3014           832   70.982268   78683.997440      1090.0   \n",
       "1571        3014          1571   97.317671  656003.589052      5350.0   \n",
       "1599        3014          1599    8.692314      92.760054     36910.0   \n",
       "1838        3014          1838    9.249316     192.272268     22250.0   \n",
       "\n",
       "      largest_coincidence  largest_other_s1  largest_other_s2  \\\n",
       "336                   0.0          0.000000       1304.783691   \n",
       "832                   0.0          8.007159        741.755005   \n",
       "1571                  0.0          0.000000     160894.843750   \n",
       "1599                  0.0          0.000000      31204.626953   \n",
       "1838                  0.0          0.000000     128323.656250   \n",
       "\n",
       "      largest_unknown  largest_veto         ...           \\\n",
       "336         13.162566           0.0         ...            \n",
       "832         14.234510           0.0         ...            \n",
       "1571        18.078890           0.0         ...            \n",
       "1599        14.676259           0.0         ...            \n",
       "1838        14.134089           0.0         ...            \n",
       "\n",
       "      s1_area_fraction_top  s1_range_50p_area             s2  \\\n",
       "336               0.325104          57.897387  192127.453125   \n",
       "832               0.351792          48.172087   78394.078125   \n",
       "1571              0.762105          17.281575  644225.062500   \n",
       "1599              0.126685          12.438091      81.860634   \n",
       "1838              0.000000          13.252068     178.316742   \n",
       "\n",
       "      s2_area_fraction_top  s2_range_50p_area          x          y        z  \\\n",
       "336               0.551483         261.008343  13.092105 -13.840225 -0.17020   \n",
       "832               0.571569         181.780709 -15.336466  -3.865288 -0.16132   \n",
       "1571              0.480113         396.418828 -13.590852  13.092105 -0.79180   \n",
       "1599              0.669333         907.345139  18.328947  -2.369048 -5.46268   \n",
       "1838              0.585296        1413.922676   9.850250   0.124687 -3.29300   \n",
       "\n",
       "      event_duration           event_time  \n",
       "336          2650140  1474505513654728430  \n",
       "832          2385890  1474505576503544370  \n",
       "1571         4887090  1474505666073927260  \n",
       "1599         2230510  1474505669366812070  \n",
       "1838         2395870  1474505698486137350  \n",
       "\n",
       "[5 rows x 21 columns]"
      ]
     },
     "execution_count": 10,
     "metadata": {},
     "output_type": "execute_result"
    }
   ],
   "source": [
    "data.head()"
   ]
  },
  {
   "cell_type": "markdown",
   "metadata": {},
   "source": [
    "# Out-of-core computation"
   ]
  },
  {
   "cell_type": "markdown",
   "metadata": {},
   "source": [
    "What if you want to e.g. make a cs1/cs2 spectrum of all events? You can't use preselections to make the data fit into RAM. You could write a for loop over datasets, adding to the histogram on each pass, but that's tedius, and you'd have to write your own parallelization code to get it fast. Instead, try the delayed option:\n"
   ]
  },
  {
   "cell_type": "code",
   "execution_count": 11,
   "metadata": {
    "collapsed": false
   },
   "outputs": [
    {
     "name": "stderr",
     "output_type": "stream",
     "text": [
      "/project/lgrandi/anaconda3/envs/pax_head/lib/python3.4/site-packages/pandas/computation/align.py:98: RuntimeWarning: divide by zero encountered in log10\n",
      "  ordm = np.log10(abs(reindexer_size - term_axis_size))\n"
     ]
    }
   ],
   "source": [
    "data = hax.minitrees.load(run_numbers, delayed=True)"
   ]
  },
  {
   "cell_type": "markdown",
   "metadata": {},
   "source": [
    "Notice very little seems to have actually happened. Under the hood it loaded one minitree (to known which columns to expected), but for the others it created \"delayed objects\" and put some interface over them to make them behave like a dataframe -- a Dask dataframe.\n",
    "\n",
    "You can make the delayed objects real and force the data to a real pandas Dataframe using\n",
    "\n",
    "    data.compute()\n",
    "\n",
    "(of course this eats your RAM, as discussed above).\n",
    "\n",
    "You can manipulate the Dask dataframe with the pandas API and/or the hax.cuts functions:  "
   ]
  },
  {
   "cell_type": "code",
   "execution_count": 12,
   "metadata": {
    "collapsed": true
   },
   "outputs": [],
   "source": [
    "data['r'] = (data.x**2 + data.y**2)**0.5"
   ]
  },
  {
   "cell_type": "code",
   "execution_count": 13,
   "metadata": {
    "collapsed": false
   },
   "outputs": [],
   "source": [
    "data = cuts.below(data, 'r', 40)"
   ]
  },
  {
   "cell_type": "markdown",
   "metadata": {},
   "source": [
    "You can call .head() to figure out if your aliases / cuts have worked (this will only require loading one minitree)"
   ]
  },
  {
   "cell_type": "code",
   "execution_count": 14,
   "metadata": {
    "collapsed": false
   },
   "outputs": [
    {
     "name": "stderr",
     "output_type": "stream",
     "text": [
      "/project/lgrandi/anaconda3/envs/pax_head/lib/python3.4/site-packages/pandas/computation/align.py:98: RuntimeWarning: divide by zero encountered in log10\n",
      "  ordm = np.log10(abs(reindexer_size - term_axis_size))\n",
      "/project/lgrandi/anaconda3/envs/pax_head/lib/python3.4/site-packages/pandas/core/ops.py:716: RuntimeWarning: invalid value encountered in less\n",
      "  result = getattr(x, name)(y)\n"
     ]
    },
    {
     "data": {
      "text/html": [
       "<div>\n",
       "<table border=\"1\" class=\"dataframe\">\n",
       "  <thead>\n",
       "    <tr style=\"text-align: right;\">\n",
       "      <th></th>\n",
       "      <th>run_number</th>\n",
       "      <th>event_number</th>\n",
       "      <th>cs1</th>\n",
       "      <th>cs2</th>\n",
       "      <th>drift_time</th>\n",
       "      <th>largest_coincidence</th>\n",
       "      <th>largest_other_s1</th>\n",
       "      <th>largest_other_s2</th>\n",
       "      <th>largest_unknown</th>\n",
       "      <th>largest_veto</th>\n",
       "      <th>...</th>\n",
       "      <th>s1_range_50p_area</th>\n",
       "      <th>s2</th>\n",
       "      <th>s2_area_fraction_top</th>\n",
       "      <th>s2_range_50p_area</th>\n",
       "      <th>x</th>\n",
       "      <th>y</th>\n",
       "      <th>z</th>\n",
       "      <th>event_duration</th>\n",
       "      <th>event_time</th>\n",
       "      <th>r</th>\n",
       "    </tr>\n",
       "  </thead>\n",
       "  <tbody>\n",
       "    <tr>\n",
       "      <th>2</th>\n",
       "      <td>3014</td>\n",
       "      <td>2</td>\n",
       "      <td>1137.244685</td>\n",
       "      <td>2.280715e+05</td>\n",
       "      <td>2730.0</td>\n",
       "      <td>0.0</td>\n",
       "      <td>313.682861</td>\n",
       "      <td>1153.935425</td>\n",
       "      <td>13.876470</td>\n",
       "      <td>11.763616</td>\n",
       "      <td>...</td>\n",
       "      <td>59.042145</td>\n",
       "      <td>225972.578125</td>\n",
       "      <td>0.540047</td>\n",
       "      <td>365.819230</td>\n",
       "      <td>3.117168</td>\n",
       "      <td>34.787594</td>\n",
       "      <td>-0.40404</td>\n",
       "      <td>2665940</td>\n",
       "      <td>1474505474267462760</td>\n",
       "      <td>34.926973</td>\n",
       "    </tr>\n",
       "    <tr>\n",
       "      <th>3</th>\n",
       "      <td>3014</td>\n",
       "      <td>3</td>\n",
       "      <td>1107.570484</td>\n",
       "      <td>1.997143e+05</td>\n",
       "      <td>42420.0</td>\n",
       "      <td>0.0</td>\n",
       "      <td>0.000000</td>\n",
       "      <td>1063.926147</td>\n",
       "      <td>14.448113</td>\n",
       "      <td>0.000000</td>\n",
       "      <td>...</td>\n",
       "      <td>64.791784</td>\n",
       "      <td>172989.312500</td>\n",
       "      <td>0.584117</td>\n",
       "      <td>499.668401</td>\n",
       "      <td>9.351503</td>\n",
       "      <td>-38.029449</td>\n",
       "      <td>-6.27816</td>\n",
       "      <td>2563120</td>\n",
       "      <td>1474505474367625930</td>\n",
       "      <td>39.162350</td>\n",
       "    </tr>\n",
       "    <tr>\n",
       "      <th>4</th>\n",
       "      <td>3014</td>\n",
       "      <td>4</td>\n",
       "      <td>7804.560521</td>\n",
       "      <td>1.173481e+06</td>\n",
       "      <td>160920.0</td>\n",
       "      <td>0.0</td>\n",
       "      <td>7.837758</td>\n",
       "      <td>370317.968750</td>\n",
       "      <td>15.635055</td>\n",
       "      <td>0.000000</td>\n",
       "      <td>...</td>\n",
       "      <td>66.532937</td>\n",
       "      <td>680456.875000</td>\n",
       "      <td>0.547282</td>\n",
       "      <td>1073.627208</td>\n",
       "      <td>-0.374060</td>\n",
       "      <td>-36.283836</td>\n",
       "      <td>-23.81616</td>\n",
       "      <td>3753160</td>\n",
       "      <td>1474505474381265020</td>\n",
       "      <td>36.285764</td>\n",
       "    </tr>\n",
       "    <tr>\n",
       "      <th>8</th>\n",
       "      <td>3014</td>\n",
       "      <td>8</td>\n",
       "      <td>4371.209123</td>\n",
       "      <td>4.666071e+05</td>\n",
       "      <td>3790.0</td>\n",
       "      <td>0.0</td>\n",
       "      <td>0.000000</td>\n",
       "      <td>315247.375000</td>\n",
       "      <td>13.740943</td>\n",
       "      <td>0.000000</td>\n",
       "      <td>...</td>\n",
       "      <td>68.666057</td>\n",
       "      <td>460656.468750</td>\n",
       "      <td>0.477846</td>\n",
       "      <td>337.214364</td>\n",
       "      <td>17.082081</td>\n",
       "      <td>26.807644</td>\n",
       "      <td>-0.56092</td>\n",
       "      <td>2739370</td>\n",
       "      <td>1474505474747732310</td>\n",
       "      <td>31.787533</td>\n",
       "    </tr>\n",
       "    <tr>\n",
       "      <th>10</th>\n",
       "      <td>3014</td>\n",
       "      <td>10</td>\n",
       "      <td>2778.598442</td>\n",
       "      <td>2.133712e+05</td>\n",
       "      <td>14180.0</td>\n",
       "      <td>0.0</td>\n",
       "      <td>0.000000</td>\n",
       "      <td>154586.984375</td>\n",
       "      <td>14.301223</td>\n",
       "      <td>0.000000</td>\n",
       "      <td>...</td>\n",
       "      <td>63.699937</td>\n",
       "      <td>203366.921875</td>\n",
       "      <td>0.545507</td>\n",
       "      <td>371.254950</td>\n",
       "      <td>-35.785088</td>\n",
       "      <td>6.359023</td>\n",
       "      <td>-2.09864</td>\n",
       "      <td>4144590</td>\n",
       "      <td>1474505474830371070</td>\n",
       "      <td>36.345697</td>\n",
       "    </tr>\n",
       "  </tbody>\n",
       "</table>\n",
       "<p>5 rows × 22 columns</p>\n",
       "</div>"
      ],
      "text/plain": [
       "    run_number  event_number          cs1           cs2  drift_time  \\\n",
       "2         3014             2  1137.244685  2.280715e+05      2730.0   \n",
       "3         3014             3  1107.570484  1.997143e+05     42420.0   \n",
       "4         3014             4  7804.560521  1.173481e+06    160920.0   \n",
       "8         3014             8  4371.209123  4.666071e+05      3790.0   \n",
       "10        3014            10  2778.598442  2.133712e+05     14180.0   \n",
       "\n",
       "    largest_coincidence  largest_other_s1  largest_other_s2  largest_unknown  \\\n",
       "2                   0.0        313.682861       1153.935425        13.876470   \n",
       "3                   0.0          0.000000       1063.926147        14.448113   \n",
       "4                   0.0          7.837758     370317.968750        15.635055   \n",
       "8                   0.0          0.000000     315247.375000        13.740943   \n",
       "10                  0.0          0.000000     154586.984375        14.301223   \n",
       "\n",
       "    largest_veto    ...      s1_range_50p_area             s2  \\\n",
       "2      11.763616    ...              59.042145  225972.578125   \n",
       "3       0.000000    ...              64.791784  172989.312500   \n",
       "4       0.000000    ...              66.532937  680456.875000   \n",
       "8       0.000000    ...              68.666057  460656.468750   \n",
       "10      0.000000    ...              63.699937  203366.921875   \n",
       "\n",
       "    s2_area_fraction_top  s2_range_50p_area          x          y         z  \\\n",
       "2               0.540047         365.819230   3.117168  34.787594  -0.40404   \n",
       "3               0.584117         499.668401   9.351503 -38.029449  -6.27816   \n",
       "4               0.547282        1073.627208  -0.374060 -36.283836 -23.81616   \n",
       "8               0.477846         337.214364  17.082081  26.807644  -0.56092   \n",
       "10              0.545507         371.254950 -35.785088   6.359023  -2.09864   \n",
       "\n",
       "    event_duration           event_time          r  \n",
       "2          2665940  1474505474267462760  34.926973  \n",
       "3          2563120  1474505474367625930  39.162350  \n",
       "4          3753160  1474505474381265020  36.285764  \n",
       "8          2739370  1474505474747732310  31.787533  \n",
       "10         4144590  1474505474830371070  36.345697  \n",
       "\n",
       "[5 rows x 22 columns]"
      ]
     },
     "execution_count": 14,
     "metadata": {},
     "output_type": "execute_result"
    }
   ],
   "source": [
    "data.head()"
   ]
  },
  {
   "cell_type": "markdown",
   "metadata": {},
   "source": [
    "You can't make a scatterplot (except by using special software such as [datashader](https://github.com/bokeh/datashader). Histograms using plt.hist or plt.scatter also don't work... but you can create histograms with the multihist package:"
   ]
  },
  {
   "cell_type": "code",
   "execution_count": 15,
   "metadata": {
    "collapsed": false
   },
   "outputs": [],
   "source": [
    "from multihist import Histdd\n",
    "mh = Histdd(data,\n",
    "            dimensions=[('cs1', np.logspace(0, 5, 250)),\n",
    "                        ('cs2', np.logspace(1, 7, 250))],\n",
    "            compute_options=dict(num_workers=4))"
   ]
  },
  {
   "cell_type": "markdown",
   "metadata": {},
   "source": [
    "This did several things for you behind the scenes: loading minitrees, applying your aliases and cuts, histogramming the data, and only then summing the histograms for each minitree. This makes sure you can make big histograms without frying your ram. \n",
    "\n",
    "Here's the result... who can identify all the populations? Enjoy ;-)"
   ]
  },
  {
   "cell_type": "code",
   "execution_count": 16,
   "metadata": {
    "collapsed": false
   },
   "outputs": [
    {
     "data": {
      "image/png": "[encoded data removed]",
      "text/plain": [
       "<matplotlib.figure.Figure at 0x7f74691bcc50>"
      ]
     },
     "metadata": {},
     "output_type": "display_data"
    }
   ],
   "source": [
    "plt.figure(figsize=(10, 8))\n",
    "mh.plot(log_scale=True)\n",
    "plt.xscale('log')\n",
    "plt.yscale('log')"
   ]
  }
 ],
 "metadata": {
  "anaconda-cloud": {},
  "kernelspec": {
   "display_name": "xenon1t",
   "language": "python",
   "name": "xenon1t"
  },
  "language_info": {
   "codemirror_mode": {
    "name": "ipython",
    "version": 3
   },
   "file_extension": ".py",
   "mimetype": "text/x-python",
   "name": "python",
   "nbconvert_exporter": "python",
   "pygments_lexer": "ipython3",
   "version": "3.4.4"
  }
 },
 "nbformat": 4,
 "nbformat_minor": 1
}
